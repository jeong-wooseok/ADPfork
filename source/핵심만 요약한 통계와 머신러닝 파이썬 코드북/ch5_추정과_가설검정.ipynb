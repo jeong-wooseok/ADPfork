{
  "cells": [
    {
      "cell_type": "markdown",
      "metadata": {
        "id": "view-in-github",
        "colab_type": "text"
      },
      "source": [
        "<a href=\"https://colab.research.google.com/github/jeong-wooseok/ADPfork/blob/master/source/%ED%95%B5%EC%8B%AC%EB%A7%8C%20%EC%9A%94%EC%95%BD%ED%95%9C%20%ED%86%B5%EA%B3%84%EC%99%80%20%EB%A8%B8%EC%8B%A0%EB%9F%AC%EB%8B%9D%20%ED%8C%8C%EC%9D%B4%EC%8D%AC%20%EC%BD%94%EB%93%9C%EB%B6%81/ch5_%EC%B6%94%EC%A0%95%EA%B3%BC_%EA%B0%80%EC%84%A4%EA%B2%80%EC%A0%95.ipynb\" target=\"_parent\"><img src=\"https://colab.research.google.com/assets/colab-badge.svg\" alt=\"Open In Colab\"/></a>"
      ]
    },
    {
      "cell_type": "markdown",
      "metadata": {
        "id": "-ZLnDvkaYxYD"
      },
      "source": [
        "# 1주. 확률분포, 추정과 가설검정, 비모수 검정\n",
        "검증을 보기 전 다음의 정리를 읽어보자<br>\n",
        "[표준편차와 표준오차 개념, 그리고 표본오차, 오차한계와 오차범위](https://recipesds.tistory.com/entry/%ED%91%9C%EB%B3%B8%ED%8E%B8%EC%B0%A8%EC%99%80-%ED%91%9C%EC%A4%80%EC%98%A4%EC%B0%A8-%EA%B0%9C%EB%85%90-%EA%B7%B8%EB%A6%AC%EA%B3%A0-%ED%91%9C%EB%B3%B8%EC%98%A4%EC%B0%A8-%EC%98%A4%EC%B0%A8%ED%95%9C%EA%B3%84%EC%99%80-%EC%98%A4%EC%B0%A8%EB%B2%94%EC%9C%84%E2%80%A6-%EC%84%A0%EA%B1%B0%EA%B8%B0%EC%82%AC%EB%A5%BC-%EC%9D%BD%EB%8A%94-%EC%9C%A0%EC%8B%9D%ED%95%A8)"
      ]
    },
    {
      "cell_type": "markdown",
      "metadata": {
        "id": "ytZJTMjYYxbU"
      },
      "source": [
        "## 2강 추정과 가설검정\n",
        "통계적 추론의 목적은 표본으로부터 모집단에 대한 정보를 얻는것 <br>\n",
        "모집단의 모수를 추정하거나 가설 검정 하기 위해 표본으로부터 얻은 통계량을 활용한다. \n",
        "<br>\n",
        "> 모수: 모집단의 특성을 나타내는 상수 <br>\n",
        "> 통계량 : 표본의 특성을 나타내는 상수\n",
        "<br>\n",
        "\n",
        "\n",
        "추정은 점추정, 구간추정으로 나뉨<br>\n",
        "> 점추정 : 단순히 표본평균, 표본분산, 표본비율을 계산하는 방법 <br>\n",
        "> 구간추정 : 점추정에 오차의 개념을 추가하여 구간으로 모수를 추정하는 방법\n",
        "<br>\n",
        "\n",
        "가설검정은 모수의 값을 가정 후, 표본의 통계량을 기준으로 귀무가설을 채택 또는 기각하는 것\n",
        "> 임계값과 검정통계량을 비교하여 검정통계량이 채택역에 있으면 귀무가설, 기각역에 있으면 대립가설을 채택\n",
        "\n"
      ]
    },
    {
      "cell_type": "markdown",
      "metadata": {
        "id": "UMD-uyVYYxdv"
      },
      "source": [
        "### 2.1 일표본 (One-Sample)\n",
        "- 단일 모집단에서 관심이 있는 연속형 변수의 평균값을 특정 기준값과 비교 <br>\n",
        "예> 나일강 악어의 평균 몸무게는 30kg이 맞나?<br><br>\n",
        "\n",
        "![](https://drive.google.com/uc?id=1F3umLnununq6ZbTmF09uOZKNRevo0r_B)\n",
        "\n",
        "모평균의 추정과 가설검정 : Z분포, t분포\n",
        "- Z분포 : 표본의 크기가 30이상이거나 모집단의 분산을 아는 경우 <br>\n",
        "$ Z = \\frac{\\bar X - \\mu}{\\sigma / \\sqrt n}$\n",
        "- t분포 : 표본의 크기가 30 미만이고, 모집단의 분산을 모르는 경우 <br>\n",
        "$ t = \\frac{\\bar X - \\mu}{s / \\sqrt n}$\n"
      ]
    },
    {
      "cell_type": "markdown",
      "metadata": {
        "id": "1J_tsUrYaPqi"
      },
      "source": [
        "#### 2.1.1 모평균의 추정과 가설검정 : Z분포, t분포"
      ]
    },
    {
      "cell_type": "markdown",
      "metadata": {
        "id": "eZyA3r1rt2Zz"
      },
      "source": [
        "##### 모표준편차를 알거나, 표본의 수가 30 이상\n"
      ]
    },
    {
      "cell_type": "markdown",
      "metadata": {
        "id": "NkG-QaJfzb7P"
      },
      "source": [
        "```\n",
        "Q) 여성가방의 36개의 표본을 확인 결과, 평균가격은 31100원, 표준편차는 4500원이었다. \n",
        "신뢰구간 95% 수준에서 얼마의 금액이 있으면 가방을 구매할 수 있을까?\n"
      ]
    },
    {
      "cell_type": "code",
      "execution_count": null,
      "metadata": {
        "colab": {
          "base_uri": "https://localhost:8080/"
        },
        "id": "bZo7q26otz0f",
        "outputId": "43c5641c-7d37-41c4-acbe-958443f5bc1a"
      },
      "outputs": [
        {
          "name": "stdout",
          "output_type": "stream",
          "text": [
            "[추정]\n",
            "점 추정량:31100.000\n",
            "구간 추정량 : 29630.027~32569.973\n",
            "오차의 한계 : 1469.973\n",
            "\n"
          ]
        }
      ],
      "source": [
        "import numpy as np\n",
        "x = 31100 #표본평균\n",
        "n = 36 # 표본크기\n",
        "sigma = 4500 # 표본표준편차\n",
        "conf = 0.05 # 구간추정을 위한 유의수준\n",
        "\n",
        "from scipy.stats import norm\n",
        "se = sigma / np.sqrt(n) # 표준오차 (standard error)\n",
        "conf_z = norm.ppf(1-conf/2) # 신뢰구간을 구하기 위한 z통계량 (검정통계량)\n",
        "me = conf_z * se # 오차한계 = 허용오차(margin of error)\n",
        "\n",
        "print('[추정]')\n",
        "print('점 추정량:{:.3f}'.format(x))\n",
        "print('구간 추정량 : {:.3f}~{:.3f}'.format(x-me,x+me))\n",
        "print('오차의 한계 : {:.3f}\\n'.format(me))"
      ]
    },
    {
      "cell_type": "markdown",
      "metadata": {
        "id": "o71XtSUbxAN2"
      },
      "source": [
        "```\n",
        "Q) 오차의 한계가 500 이하일 확률이 0.95가 되도록 모집단 평균의 추정치를 원하는 경우, \n",
        "표본 규모는 얼마가 되어야 하는가?\n"
      ]
    },
    {
      "cell_type": "code",
      "execution_count": null,
      "metadata": {
        "colab": {
          "base_uri": "https://localhost:8080/"
        },
        "id": "z3Ut2JK-w_rw",
        "outputId": "25382126-d8fd-46b2-c8e5-75acde34b69c"
      },
      "outputs": [
        {
          "name": "stdout",
          "output_type": "stream",
          "text": [
            "[표본규모]\n",
            "유의수준 0.05 에서 오차의 한계를 500 이하로 하려면 표본크기 311.2 이상 \n",
            "\n"
          ]
        }
      ],
      "source": [
        "from scipy.stats import norm\n",
        "me = 500\n",
        "conf = 1- 0.95\n",
        "conf_z = norm.ppf(conf/2)\n",
        "표본규모 = conf_z**2 * sigma**2 / me**2\n",
        "print('[표본규모]')\n",
        "print('유의수준 {:.2f} 에서 오차의 한계를 {} 이하로 하려면 표본크기 {:.1f} 이상 \\n'.format(conf,me,표본규모))"
      ]
    },
    {
      "cell_type": "markdown",
      "metadata": {
        "id": "TdhV65ac6-GC"
      },
      "source": [
        "```\n",
        "모평균이 30000원 이라는 가설을 95% 수준에서 검증하여라\n"
      ]
    },
    {
      "cell_type": "code",
      "execution_count": null,
      "metadata": {
        "colab": {
          "base_uri": "https://localhost:8080/"
        },
        "id": "VNpfhjfe69UQ",
        "outputId": "115152a1-e456-4448-f789-2c2440417918"
      },
      "outputs": [
        {
          "name": "stdout",
          "output_type": "stream",
          "text": [
            "[검정]\n",
            "임계값 : +/-+/-1.959964, 검정통계량1.467\n",
            "유의수준0.050,유의확률0.142\n",
            "신뢰구간 : 29630.027~32569.973, 검정하고자 하는 값 : 30000\n",
            "\n"
          ]
        }
      ],
      "source": [
        "from scipy.stats import norm\n",
        "import numpy as np\n",
        "n=36\n",
        "x = 31100\n",
        "mu = 30000\n",
        "s = 4500 # 표본표준편차\n",
        "conf = 1 - 0.95 # 유의수준 \n",
        "se  = s / np.sqrt(n) # 유의확률의 표준오차\n",
        "zstat = (x - mu) / se # z-value(검정통계량)\n",
        "\n",
        "conf_z = norm.ppf(1-conf/2) # 유의수준의 검정통계량\n",
        "me = conf_z * se # 오차한계\n",
        "\n",
        "ways ='two'\n",
        "\n",
        "if ways == 'two':\n",
        "  sp =(1-norm.cdf(np.abs(zstat)))*2\n",
        "  cv = norm.ppf(1-conf/2)\n",
        "  cv = '+/-{:3f}'.format(cv)\n",
        "elif ways == 'oneright':\n",
        "  sp =(1-norm.cdf(np.abs(zstat)))*2\n",
        "  cv = norm.ppf(1-conf)\n",
        "  cv = '{:3f}'.format(cv)\n",
        "elif ways == 'oneleft':\n",
        "  sp =(1-norm.cdf(np.abs(zstat)))*2\n",
        "  cv = norm.ppf(conf)\n",
        "  cv = '{:3f}'.format(cv)\n",
        "\n",
        "print('[검정]')\n",
        "print('임계값 : +/-{}, 검정통계량{:.3f}'.format(cv,zstat))\n",
        "print('유의수준{:.3f},유의확률{:.3f}'.format(conf,sp))\n",
        "print('신뢰구간 : {:.3f}~{:.3f}, 검정하고자 하는 값 : {:.0f}\\n'.format(x-me,x+me,mu))"
      ]
    },
    {
      "cell_type": "markdown",
      "metadata": {
        "id": "oFf4SNwl0bzv"
      },
      "source": [
        "##### 모표분편차를 모르는 경우"
      ]
    },
    {
      "cell_type": "code",
      "execution_count": null,
      "metadata": {
        "colab": {
          "base_uri": "https://localhost:8080/"
        },
        "id": "z9VakDff0bWX",
        "outputId": "13b58d96-98d6-467f-9a25-43d2f684ff39"
      },
      "outputs": [
        {
          "name": "stdout",
          "output_type": "stream",
          "text": [
            "[추정]\n",
            "점 추정량:650.000\n",
            "구간 추정량 : 620.693~679.307\n",
            "오차의 한계 : 29.307\n",
            "\n"
          ]
        }
      ],
      "source": [
        "x = 650\n",
        "n = 16\n",
        "s = 55\n",
        "conf = 0.05\n",
        "df = n-1\n",
        "\n",
        "from scipy.stats import t\n",
        "se = s / np.sqrt(n)\n",
        "conf_t = t.ppf(1-conf/2, df)\n",
        "me = conf_t * se\n",
        "\n",
        "print('[추정]')\n",
        "print('점 추정량:{:.3f}'.format(x))\n",
        "print('구간 추정량 : {:.3f}~{:.3f}'.format(x-me,x+me))\n",
        "print('오차의 한계 : {:.3f}\\n'.format(me))"
      ]
    },
    {
      "cell_type": "markdown",
      "metadata": {
        "id": "K13-6Tqt2S6T"
      },
      "source": [
        "```\n",
        "오차의 한계가 20 이하일 확률이 0.95가 되도록 모집단 평균의 추정치를 원하는 경우 \n",
        "표본의 규모는 얼마가 되어야 하는가\n"
      ]
    },
    {
      "cell_type": "code",
      "execution_count": null,
      "metadata": {
        "colab": {
          "base_uri": "https://localhost:8080/"
        },
        "id": "7tRBV5mj2ITd",
        "outputId": "4eea5f0f-9a83-4e8c-a989-cbd3e9f516ec"
      },
      "outputs": [
        {
          "name": "stdout",
          "output_type": "stream",
          "text": [
            "[표본규모]\n",
            "유의수준 0.05 에서 오차의 한계를 20 이하로 하려면 표본크기 34.4 이상 \n",
            "\n"
          ]
        }
      ],
      "source": [
        "me = 20\n",
        "conf = 1- 0.95\n",
        "conf_t = t.ppf(conf/2,df)\n",
        "표본규모 = conf_t**2 * s**2 / me**2\n",
        "print('[표본규모]')\n",
        "print('유의수준 {:.2f} 에서 오차의 한계를 {} 이하로 하려면 표본크기 {:.1f} 이상 \\n'.format(conf,me,표본규모))"
      ]
    },
    {
      "cell_type": "markdown",
      "metadata": {
        "id": "MkWzTCmr2HWk"
      },
      "source": [
        "```\n",
        "모평균이 600이라는 가설을 95% 수준에서 검증하여라\n"
      ]
    },
    {
      "cell_type": "code",
      "execution_count": null,
      "metadata": {
        "colab": {
          "base_uri": "https://localhost:8080/"
        },
        "id": "Nw1Zz6CV255I",
        "outputId": "8d827ecc-f6bf-4d5f-e037-bc0f056c41e0"
      },
      "outputs": [
        {
          "name": "stdout",
          "output_type": "stream",
          "text": [
            "[검정]\n",
            "임계값 : +/-+/-2.131450, 검정통계량3.636\n",
            "유의수준0.050,유의확률0.002\n",
            "신뢰구간 : 620.693~679.307, 검정하고자 하는 값 : 600.000\n",
            "\n"
          ]
        }
      ],
      "source": [
        "mu = 600\n",
        "df = n-1\n",
        "\n",
        "conf = 1 - 0.95 # 유의수준 \n",
        "se  = s / np.sqrt(n)\n",
        "tstat = (x - mu) / se # t-value(검정통계량)\n",
        "\n",
        "conf_t = t.ppf(1-conf/2,df) # p-value(유의확률)\n",
        "me = conf_t * se # 오차한계\n",
        "\n",
        "sp =(1-t.cdf(np.abs(tstat), df))*2\n",
        "cv = t.ppf(1-conf/2, df)\n",
        "cv = '+/-{:3f}'.format(cv)\n",
        "\n",
        "print('[검정]')\n",
        "print('임계값 : +/-{}, 검정통계량{:.3f}'.format(cv,tstat))\n",
        "print('유의수준{:.3f},유의확률{:.3f}'.format(conf,sp))\n",
        "print('신뢰구간 : {:.3f}~{:.3f}, 검정하고자 하는 값 : {:.3f}\\n'.format(x-me,x+me,mu))"
      ]
    },
    {
      "cell_type": "markdown",
      "metadata": {
        "id": "ZZdtB28AaPma"
      },
      "source": [
        "\n",
        "####  2.1.2 1종 오류와 2종 오류\n",
        "1종오류(𝛼) : 귀무가설이 참인데 대립가설을 채택하는 경우<br>\n",
        "2종오류(𝛽) : 대립가설이 참인데 귀무가설을 채택하는 경우 \n",
        "> 1종오류와 2종오류는 tradeoff관계에 있음 <br>\n",
        "> 1-𝛽를 검정력(statistical power)이라 함\n",
        "\n",
        "2종 오류는 검정력이 낮을 때 발생하며, 검정력은 표본의 크기, 유의 수준, 효과 크기 등에 영향을 받습니다. <br>예를 들어, 효과 크기가 작은 경우에는 표본의 크기가 커져야 검정력이 높아져서 2종 오류를 줄일 수 있습니다.\n",
        "\n",
        "따라서, 검정에서는 1종 오류와 2종 오류를 동시에 고려하여 유의 수준과 검정력을 적절하게 조절해야 합니다."
      ]
    },
    {
      "cell_type": "markdown",
      "metadata": {
        "id": "cg68AcEgSK9m"
      },
      "source": [
        "```\n",
        "모표준편차를 알 때 1종, 2종 오류문제\n",
        "Q) 생산공정이 N(100,16)인 정규분포인데 다른 원료로 추출한 샘플 10개의 평균이 97.6이다. \n",
        "이 원료 사용시 공정 평균이 종래보다 3kg 만큼 작을 때 이것을 적어도 \n",
        "확률 90%로 검출하는데 필요한 표본의 크기는? (신뢰도 95%)\n"
      ]
    },
    {
      "cell_type": "code",
      "execution_count": null,
      "metadata": {
        "colab": {
          "base_uri": "https://localhost:8080/"
        },
        "id": "14SSHzV0SKBH",
        "outputId": "da5a6b8c-b389-4609-fc51-76636623b31e"
      },
      "outputs": [
        {
          "name": "stdout",
          "output_type": "stream",
          "text": [
            "유의수준통계량 1.64, 검정력통계량 1.28이려면 표본크기는 23.8 이상이어야 함\n",
            "(이때, 데이터값은 모집단:98.7,표본집단:96.5)\n"
          ]
        }
      ],
      "source": [
        "from scipy.stats import norm\n",
        "import numpy as np\n",
        "\n",
        "m0 = 100 # 귀무가설의 평균\n",
        "m1 = 97.6 # 대립가설의 평균00\n",
        "sigma = 4 # 모집단표준편차\n",
        "\n",
        "conf_0 = 0.05 # 유의수준\n",
        "conf_1 = 0.1 # 검정력\n",
        "\n",
        "conf_z0 = norm.ppf(1-conf_0) # 유의수준의 검정통계량 확인\n",
        "conf_z1 = norm.ppf(1-conf_1) # 검정력의 검정통계량 확인\n",
        "표본규모 = (np.abs(conf_z0)+np.abs(conf_z1)) **2/ ((m1-m0)/sigma)**2 # (모집단의 유의수준 alpha의 임계값 = 비교집단의 유의수준 beta 의 임계값)을 계산 \n",
        "## \n",
        "\n",
        "if m1 - m0 < 0 :\n",
        "  data0 = m0 - conf_z0 * sigma / np.sqrt(표본규모) # 모집단으로 계산  ##\n",
        "  data1 = m1 - conf_z1 * sigma / np.sqrt(표본규모) # 표본집단으로 계산 ## \n",
        "else:\n",
        "  data0 = m0 + conf_z0 * sigma / np.sqrt(표본규모)\n",
        "  data1 = m1 + conf_z1 * sigma / np.sqrt(표본규모)\n",
        "\n",
        "print('유의수준통계량 {:.2f}, 검정력통계량 {:.2f}이려면 표본크기는 {:.1f} 이상이어야 함'.format(conf_z0,conf_z1,표본규모))\n",
        "print('(이때, 데이터값은 모집단:{:.1f},표본집단:{:.1f})'.format(data0,data1))"
      ]
    },
    {
      "cell_type": "markdown",
      "metadata": {
        "id": "uuubAJ2lbK8i"
      },
      "source": [
        "\n",
        "학교 시험성적 평균이 300점이고 표준편차가 24점이다. <br>\n",
        "무작위로 64명을 선발해서 시험을 치렀을 때 평균이 310점이고 표준편차는 20점이다.<br>\n",
        "샘플집단이 모집단과 다름에도 불구하고 같다고 판단할 확률은? <br>(모집단의 유의수준은 0.01)\n"
      ]
    },
    {
      "cell_type": "code",
      "execution_count": null,
      "metadata": {
        "colab": {
          "base_uri": "https://localhost:8080/"
        },
        "id": "VxGJx69eppDp",
        "outputId": "0a191510-240d-4276-9c7b-dc3cdbe6b36b"
      },
      "outputs": [
        {
          "name": "stdout",
          "output_type": "stream",
          "text": [
            "1종오류의 경계값 데이터는 306.979, 2종오류의 확률은 0.113, 검정력은 0.887\n"
          ]
        }
      ],
      "source": [
        "m0 = 300\n",
        "sigma = 24\n",
        "\n",
        "n = 64\n",
        "m1 = 310\n",
        "s = 20\n",
        "conf_0 = 0.01 # 유의수준\n",
        "\n",
        "se = sigma / np.sqrt(n) # 표준오차\n",
        "conf_z0 = np.abs(norm.ppf(conf_0)) # 모집단의 오른쪽 검정통계량\n",
        "\n",
        "if m1-m0<0:\n",
        "  data = m0 - conf_z0 * se\n",
        "  conf_z1 = (data - m1) / (s/np.sqrt(n)) # 표본 기준 검정통계량 (표준화)\n",
        "  conf_1 = 1 - norm.cdf(conf_z1) # 표준화한 값으로 2종오류 beta의 확률 계산\n",
        "else: \n",
        "  data = m0 + conf_z0 * se\n",
        "\n",
        "  \n",
        "  conf_z1 = (data - m1) / (s/np.sqrt(n)) # 표본 기준 검정통계량 (표준화)\n",
        "  conf_1 = norm.cdf(conf_z1) # 표준화한 값으로 2종오류 beta의 확률 계산\n",
        "\n",
        "print('1종오류의 경계값 데이터는 {:.3f}, 2종오류의 확률은 {:.3f}, 검정력은 {:.3f}'.format(data,conf_1,1- conf_1))"
      ]
    },
    {
      "cell_type": "markdown",
      "metadata": {
        "id": "rc1ZWW3BaPkk"
      },
      "source": [
        "#### 2.1.3 모비율의 추정과 가설검정 : Z분포\n",
        "\n",
        "표본에서 추출한 표본비율을 통해 모비율을 추정하거나, <br>\n",
        "원하는 유의수준을 충족할 필요한 표본의 수를 구할 수 있다.\n",
        "[참고](https://swmh.tistory.com/124)\n",
        "\n",
        "- 모비율(p)의 추정이나 가설 검정에서 z 분포는 중요한 역할을 합니다. z 분포는 평균이 0, 표준편차가 1인 표준정규분포를 의미합니다. 표본 통계량(예: 표본비율)을 이용하여 모집단의 평균이나 비율을 추정하거나 가설 검정을 할 때, 표본 통계량을 표준화하여 z값을 계산합니다.\n",
        "\n",
        "- z값은 표본 통계량과 모집단의 모수 사이의 차이를 평균과 표준편차로 나눈 값으로, 표본 통계량이 얼마나 모집단의 모수와 차이가 큰지를 나타냅니다. 이 z값을 표준정규분포의 분포표를 이용하여 p값을 계산하거나, 검정통계량을 구할 때 사용합니다.\n",
        "\n",
        "- 모비율(p)의 추정에서, z 분포를 이용하여 모비율의 추정값과 신뢰구간을 계산합니다. 표본 통계량인 표본비율(p_hat)과 표본크기(n), 그리고 신뢰수준(1-α)을 이용하여 표준오차(SE)를 계산하고, 이를 이용하여 z값을 계산합니다. 그리고 z값과 표준오차(SE)를 이용하여 신뢰구간을 계산합니다.\n",
        "\n",
        "- 가설 검정에서도 z 분포를 이용합니다. 귀무가설을 기각할지 말지 결정하기 위해, 표본 통계량(p_hat)과 귀무가설의 모비율(p_0)과의 차이를 SE로 나누어 z값을 계산합니다. 그리고 이 z값과 유의수준(α)을 이용하여 p값을 계산하고, 이 p값이 유의수준보다 작으면 귀무가설을 기각합니다."
      ]
    },
    {
      "cell_type": "markdown",
      "metadata": {
        "id": "I-cM3dAPwTkR"
      },
      "source": [
        "어느 화장품 공장에서 500개의 표본에서 추출한 양품의 갯수가 220개이다.\n",
        "신뢰구간 95% 의 수준에서 검증하여라\n"
      ]
    },
    {
      "cell_type": "code",
      "execution_count": null,
      "metadata": {
        "colab": {
          "base_uri": "https://localhost:8080/"
        },
        "id": "F3nicIjBww_v",
        "outputId": "eb4287fd-2231-44ed-a83b-1519f10b9012"
      },
      "outputs": [
        {
          "name": "stdout",
          "output_type": "stream",
          "text": [
            "[추정]\n",
            "점 추정량 : 0.440\n",
            "구간 추정량 : 0.396 ~ 0.484\n",
            "오차한계 : 0.044\n"
          ]
        }
      ],
      "source": [
        "n = 500\n",
        "p = 220 / 500\n",
        "conf_0 = 1 - 0.95 # 유의수준\n",
        "V = p*(1-p) # 베르누이시행의 분산\n",
        "\n",
        "from scipy.stats import norm\n",
        "conf_z0 = norm.ppf(1-conf_0/2)\n",
        "se = np.sqrt(V/n) # 표준오차\n",
        "me = conf_z0 * se # 오차한계 (margin of error)\n",
        "print('[추정]')\n",
        "print('점 추정량 : {:.3f}'.format(p))\n",
        "print('구간 추정량 : {:.3f} ~ {:.3f}'.format(p-me, p+me))\n",
        "print('오차한계 : {:.3f}'.format(me))"
      ]
    },
    {
      "cell_type": "markdown",
      "metadata": {
        "id": "6uk0owvjbK7S"
      },
      "source": [
        "```\n",
        "오차의 한계가 0.03 이하일 확률이 0.99가 되도록 \n",
        "모집단 비율의 추정치를 원하는 경우, 표본규모는 얼마가 되어야 하는가?\n"
      ]
    },
    {
      "cell_type": "code",
      "execution_count": null,
      "metadata": {
        "colab": {
          "base_uri": "https://localhost:8080/"
        },
        "id": "H0HIhY9dSJF2",
        "outputId": "b00e511d-675b-4549-8c06-3ed24b164b53"
      },
      "outputs": [
        {
          "name": "stdout",
          "output_type": "stream",
          "text": [
            "표본규모는 9465이상 필요\n"
          ]
        }
      ],
      "source": [
        "p = 220 / 500 # 표본집단 확률\n",
        "conf_0 = 1 - 0.95 # 유의수준\n",
        "conf_1 = 1 - 0.99 # 허용오차 유의수준\n",
        "conf_z0 = norm.ppf(1-conf_0/2) # 유의수준과 관련된 z값\n",
        "표본규모 = conf_z0 **2 * p * (1 - p) / conf_1**2\n",
        "print('표본규모는 {:.0f}이상 필요'.format(표본규모))"
      ]
    },
    {
      "cell_type": "markdown",
      "metadata": {
        "id": "qfzyoKSIaPhK"
      },
      "source": [
        "#### 2.1.4 모분산의 추정과 가설검정 : 카이제곱 분포\n",
        "\n",
        "- 모평균/분산을 모르는 경우, 가설 검정 시 표본분산을 기반으로 검정 통계량을 계산, 이 검정 통계량이 카이제곱 분포를 따른다 가정\n",
        "  + 이를 이용하여 유의수준에 따라 기각역 정의, 검정 결과 판단"
      ]
    },
    {
      "cell_type": "code",
      "execution_count": null,
      "metadata": {
        "colab": {
          "base_uri": "https://localhost:8080/"
        },
        "id": "wLODA-if47fK",
        "outputId": "cf19e60e-b468-4437-b343-00f3f1d8fde3"
      },
      "outputs": [
        {
          "name": "stdout",
          "output_type": "stream",
          "text": [
            "[추정]\n",
            "점 추정량 : 3.400\n",
            "구간 추정량 : 2.372 ~ 5.280\n",
            "\n"
          ]
        }
      ],
      "source": [
        "### 모평균을 모르는 경우 모분산 추정\n",
        "n = 50 # 표본크기\n",
        "v = 3.4 # 표본분산\n",
        "dof = n-1 # 자유도\n",
        "conf_0 = 0.05 # 유의확률\n",
        "\n",
        "from scipy.stats import chi2\n",
        "conf_c1 = chi2.ppf(1-conf_0/2, dof) # 우측 검정통계량\n",
        "conf_c2 = chi2.ppf(conf_0/2, dof) # 좌측 검정통계량\n",
        "cr1 = dof * v / conf_c1  #(자유도)*분산 / 우측검정통계량\n",
        "cr2 = dof * v / conf_c2 #(자유도)*분산 / 좌측검정통계량\n",
        "\n",
        "print(\"[추정]\")\n",
        "print(\"점 추정량 : {:.3f}\".format(v))\n",
        "print(\"구간 추정량 : {:.3f} ~ {:.3f}\\n\".format(cr1,cr2))"
      ]
    },
    {
      "cell_type": "code",
      "execution_count": null,
      "metadata": {
        "colab": {
          "base_uri": "https://localhost:8080/"
        },
        "id": "lwlLqixv3yC9",
        "outputId": "4ca4239a-b438-48e9-ef67-688f5d69c540"
      },
      "outputs": [
        {
          "name": "stdout",
          "output_type": "stream",
          "text": [
            "[검정]\n",
            "임계값 : 7.261, 검정통계량 : 14.167\n",
            "유의수준 : 1.855 유의확률 : 8.144\n",
            "\n",
            "신뢰구간 : 1.855 ~ 8.144 검정하고자 하는 값 :3.600\n",
            "\n"
          ]
        }
      ],
      "source": [
        "# 가설검정 (왼쪽 검정)\n",
        "v0 = 3.6 # 귀무가설의 모분산\n",
        "conf_0 = 0.05\n",
        "conf_c1 = chi2.ppf(1-conf_0/2, df)\n",
        "conf_c2 = chi2.ppf(conf_0/2, df)\n",
        "cr1 = df * v / conf_c1 #\n",
        "cr2 = df * v / conf_c2 #\n",
        "\n",
        "cstat = df * v/v0 # 카이제곱 통계량\n",
        "\n",
        "ways = 'one-left'\n",
        "sp = chi2.cdf(cstat, df)\n",
        "cv = chi2.ppf(conf_0, df)\n",
        "\n",
        "print(\"[검정]\")\n",
        "print(\"임계값 : {:.3f}, 검정통계량 : {:.3f}\".format(cv, cstat))\n",
        "print(\"유의수준 : {:.3f} 유의확률 : {:.3f}\\n\".format(cr1,cr2))\n",
        "print(\"신뢰구간 : {:.3f} ~ {:.3f} 검정하고자 하는 값 :{:.3f}\\n\".format(cr1,cr2, v0))"
      ]
    },
    {
      "cell_type": "markdown",
      "metadata": {
        "id": "9yCooBygaPfL"
      },
      "source": [
        "### 2.2 이표본 (Two-Sample)\n",
        "두 집단의 처리를 비교\n",
        "- 대응표본 : 이벤트 전후의 전후 AB테스트 <br><br>\n",
        "![](https://drive.google.com/uc?id=1sJYNsYWhNC2BzwdzqBSrNSpWVkjFaQjH)\n",
        "<br><br>\n",
        "- 독립표본 : 임의의 두그룹으로 나누어 한그룹에는 A처리, 다른 그룹에는 B처리 <br><br>\n",
        "![](https://drive.google.com/uc?id=12LJ7AB-MfsJaRX3QU4-a_RKPLIxuNSc5)\n",
        "<br><br>\n",
        "\n",
        "\n",
        "\n",
        "[독립표본과 대응표본의 차이](https://m.blog.naver.com/PostView.naver?isHttpsRedirect=true&blogId=khyunji90&logNo=220207849747)\n",
        "\n"
      ]
    },
    {
      "cell_type": "markdown",
      "metadata": {
        "id": "Sx0BJXXaaPZl"
      },
      "source": [
        "#### 2.2.1 독립표본 모평균 차이의 추정과 가설검정 : Z분포, t분포"
      ]
    },
    {
      "cell_type": "markdown",
      "metadata": {
        "id": "09rfdaD2OH_n"
      },
      "source": [
        "```\n",
        "표본의 크기가 30 이상이고 모집단의 분산을 아는 경우\n"
      ]
    },
    {
      "cell_type": "code",
      "execution_count": null,
      "metadata": {
        "colab": {
          "base_uri": "https://localhost:8080/"
        },
        "id": "ykhDTe8RFc3U",
        "outputId": "95e9a016-1181-429b-d798-b34acf40d6bb"
      },
      "outputs": [
        {
          "name": "stdout",
          "output_type": "stream",
          "text": [
            "[추정]\n",
            "점추정량 : 8.000\n",
            "구간추정량 : 5.353 ~ 10.647\n",
            "오차한계 : 2.647\n",
            "\n",
            "[검정]\n",
            "임계값 : +/-1.960, 검정통계량 : 5.923\n",
            "유의수준 : 0.05, 유의확률률 : 0.000\n",
            "신뢰구간 : 5.353 ~ 10.647, 검정하고자 하는 값 : 0.000\n"
          ]
        }
      ],
      "source": [
        "import numpy as np\n",
        "from scipy.stats import norm\n",
        "x1= 78\n",
        "x2 = 70\n",
        "sigma1 = 4.8\n",
        "sigma2 = 3.1\n",
        "n1 = 16\n",
        "n2 = 25\n",
        "conf_0 = 0.05\n",
        "\n",
        "d0 = 0\n",
        "d = x1 - x2\n",
        "se = np.sqrt(sigma1**2/n1 + sigma2**2/n2)\n",
        "zstat = (x1-x2-d0) /se\n",
        "conf_z = norm.ppf(1-conf_0/2) # z분포 활용 \n",
        "me = conf_z * se\n",
        "\n",
        "print('[추정]')\n",
        "print('점추정량 : {:.3f}'.format(d))\n",
        "print('구간추정량 : {:.3f} ~ {:.3f}'.format(d-me,d+me))\n",
        "print('오차한계 : {:.3f}\\n'.format(me))\n",
        "\n",
        "# 독립표본 모평균 차이의 가설검정\n",
        "# H0 : 모평균의 차 가 D0과 같다\n",
        "# H1 : 모평균의 차 가 D0과 같지않다\n",
        "conf_0 = 0.05\n",
        "d = x1 - x2\n",
        "df = n1 + n2 -2\n",
        "se = np.sqrt(sigma1**2/n1 + sigma2**2/n2)\n",
        "zstat =(x1-x2-d0)/se\n",
        "conf_z = norm.ppf(1-conf_0/2)\n",
        "me = conf_z * se\n",
        "\n",
        "ways ='two'\n",
        "if ways == 'two':\n",
        "  sp = (1-norm.cdf(np.abs(zstat)))*2\n",
        "  cv = norm.ppf(1-conf_0/2)\n",
        "  cv ='+/-{:.3f}'.format(cv)\n",
        "elif ways =='one-right':\n",
        "  sp = 1-norm.cdf(zstat)\n",
        "  cv = norm.ppf(1-conf_0)\n",
        "  cv ='{:.3f}'.format(cv) \n",
        "elif ways =='one-left':\n",
        "  sp = norm.cdf(zstat)\n",
        "  cv = norm.ppf(conf_0)\n",
        "  cv ='{:.3f}'.format(cv) \n",
        "\n",
        "print('[검정]')\n",
        "print('임계값 : {}, 검정통계량 : {:.3f}'.format(cv,zstat))\n",
        "print('유의수준 : {}, 유의확률률 : {:.3f}'.format(conf_0,sp))\n",
        "print('신뢰구간 : {:.3f} ~ {:.3f}, 검정하고자 하는 값 : {:.3f}'.format(d-me,d+me,d0))"
      ]
    },
    {
      "cell_type": "markdown",
      "metadata": {
        "id": "t8sLcJwsO5-B"
      },
      "source": [
        "```\n",
        "표본의 크기가 30 미만이고 모집단의 분산을 모르지만 같다는 것을 알고 있을 때\n"
      ]
    },
    {
      "cell_type": "code",
      "execution_count": null,
      "metadata": {
        "colab": {
          "base_uri": "https://localhost:8080/"
        },
        "id": "_U11cVINIs7C",
        "outputId": "35263023-325b-446d-a16f-ccee2769f345"
      },
      "outputs": [
        {
          "name": "stdout",
          "output_type": "stream",
          "text": [
            "[추정]\n",
            "점추정량 : 4.000\n",
            "구간추정량 : 0.001 ~ 7.999\n",
            "오차한계 : 3.999\n",
            "\n",
            "[검정]\n",
            "임계값 : +/-2.086, 검정통계량 : 2.086\n",
            "유의수준 : 0.05, 유의확률 : 0.050\n",
            "신뢰구간 : 0.001 ~ 7.999, 검정하고자 하는 값 : 0.000\n"
          ]
        }
      ],
      "source": [
        "## 독립표본 모평균 차이의 추정정\n",
        "import numpy as np\n",
        "from scipy.stats import t\n",
        "x1= 85\n",
        "x2 = 81\n",
        "s1 = 4\n",
        "s2 = 5\n",
        "n1 = 12\n",
        "n2 = 10\n",
        "conf_0 = 0.05\n",
        "\n",
        "d0 = 0\n",
        "d = x1 - x2\n",
        "df = n1 + n2 - 2 # 자유도\n",
        "pv = (s1**2*(n1-1)+s2**2*(n2-1))/df #합동분산 (pooled variance)\n",
        "se = np.sqrt(pv) * np.sqrt(1/n1+1/n2) # standard error\n",
        "tstat = (x1-x2-d0) /se\n",
        "conf_t = t.ppf(1-conf_0/2, df) # t분포 활용 \n",
        "me = conf_t * se\n",
        "\n",
        "print('[추정]')\n",
        "print('점추정량 : {:.3f}'.format(d))\n",
        "print('구간추정량 : {:.3f} ~ {:.3f}'.format(d-me,d+me))\n",
        "print('오차한계 : {:.3f}\\n'.format(me))\n",
        "\n",
        "## 독립표본 모평균 차이의 가설검정\n",
        "# H0 : 모평균의 차 가 D0과 같다\n",
        "# H1 : 모평균의 차 가 D0과 같지않다\n",
        "conf_0 = 0.05\n",
        "d = x1 - x2\n",
        "df = n1 + n2 -2\n",
        "pv = (s1**2*(n1-1)+s2**2*(n2-1))/df #합동분산 (pooled variance)\n",
        "se = np.sqrt(pv) * np.sqrt(1/n1+1/n2) # standard error\n",
        "tstat =(x1-x2-d0)/se\n",
        "conf_t = t.ppf(1-conf_0/2, df) # t분포 활용 \n",
        "me = conf_t * se\n",
        "\n",
        "ways ='two'\n",
        "if ways == 'two':\n",
        "  sp = (1-t.cdf(np.abs(tstat),df))*2\n",
        "  cv = t.ppf(1-conf_0/2, df)\n",
        "  cv ='+/-{:.3f}'.format(cv)\n",
        "elif ways =='one-right':\n",
        "  sp = 1-t.cdf(tstat,df)\n",
        "  cv = norm.ppf(1-conf_0,df)\n",
        "  cv ='{:.3f}'.format(cv) \n",
        "elif ways =='one-left':\n",
        "  sp = norm.cdf(tstat,df)\n",
        "  cv = norm.ppf(conf_0,df)\n",
        "  cv ='{:.3f}'.format(cv) \n",
        "\n",
        "print('[검정]')\n",
        "print('임계값 : {}, 검정통계량 : {:.3f}'.format(cv,tstat))\n",
        "print('유의수준 : {}, 유의확률 : {:.3f}'.format(conf_0,sp))\n",
        "print('신뢰구간 : {:.3f} ~ {:.3f}, 검정하고자 하는 값 : {:.3f}'.format(d-me,d+me,d0))"
      ]
    },
    {
      "cell_type": "markdown",
      "metadata": {
        "id": "845aN0W_Sndp"
      },
      "source": [
        "```\n",
        "표본의 크기가 30 미만이고 모집단의 분산을 모르지만 다르다는 것을 알고 있을 때\n"
      ]
    },
    {
      "cell_type": "code",
      "execution_count": null,
      "metadata": {
        "colab": {
          "base_uri": "https://localhost:8080/"
        },
        "id": "B-2rI8DzSmrU",
        "outputId": "41119634-c557-41f2-a6c0-a65f8ad8ae38"
      },
      "outputs": [
        {
          "name": "stdout",
          "output_type": "stream",
          "text": [
            "[추정]\n",
            "점추정량 : 4.000\n",
            "구간추정량 : -0.128 ~ 8.128\n",
            "오차한계 : 4.128\n",
            "자유도 : 17.165\n",
            "\n",
            "[검정]\n",
            "임계값 : +/-2.108, 검정통계량 : 2.043\n",
            "유의수준 : 0.05, 유의확률 : 0.057\n",
            "신뢰구간 : -0.128 ~ 8.128, 검정하고자 하는 값 : 0.000\n"
          ]
        }
      ],
      "source": [
        "## 독립표본 모평균 차이의 추정정\n",
        "import numpy as np\n",
        "from scipy.stats import t\n",
        "x1= 85\n",
        "x2 = 81\n",
        "s1 = 4\n",
        "s2 = 5\n",
        "n1 = 12\n",
        "n2 = 10\n",
        "conf_0 = 0.05\n",
        "\n",
        "d0 = 0\n",
        "d = x1 - x2\n",
        "df = ((s1**2)/n1 + (s2**2)/n2)**2 / (1/(n1-1)*((s1**2)/n1)**2 + 1/(n2-1)*((s2**2)/n2)**2)\n",
        "se = np.sqrt(s1**2/n1 + s2**2/n2)\n",
        "tstat = (x1-x2-d0) /se\n",
        "conf_t = t.ppf(1-conf_0/2, df) # t분포 활용 \n",
        "me = conf_t * se\n",
        "\n",
        "print('[추정]')\n",
        "print('점추정량 : {:.3f}'.format(d))\n",
        "print('구간추정량 : {:.3f} ~ {:.3f}'.format(d-me,d+me))\n",
        "print('오차한계 : {:.3f}'.format(me))\n",
        "print('자유도 : {:.3f}\\n'.format(df))\n",
        "\n",
        "## 독립표본 모평균 차이의 가설검정\n",
        "# H0 : 모평균의 차 가 D0과 같다\n",
        "# H1 : 모평균의 차 가 D0과 같지않다\n",
        "conf_0 = 0.05\n",
        "d0 = 0\n",
        "d = x1 - x2\n",
        "df = ((s1**2)/n1 + (s2**2)/n2)**2 / (1/(n1-1)*((s1**2)/n1)**2 + 1/(n2-1)*((s2**2)/n2)**2)\n",
        "se = np.sqrt(s1**2/n1 + s2**2/n2)\n",
        "tstat = (x1-x2-d0) /se\n",
        "conf_t = t.ppf(1-conf_0/2, df) # t분포 활용 \n",
        "me = conf_t * se\n",
        "\n",
        "ways ='two'\n",
        "if ways == 'two':\n",
        "  sp = (1-t.cdf(np.abs(tstat),df))*2\n",
        "  cv = t.ppf(1-conf_0/2, df)\n",
        "  cv ='+/-{:.3f}'.format(cv)\n",
        "elif ways =='one-right':\n",
        "  sp = 1-t.cdf(tstat,df)\n",
        "  cv = norm.ppf(1-conf_0,df)\n",
        "  cv ='{:.3f}'.format(cv) \n",
        "elif ways =='one-left':\n",
        "  sp = norm.cdf(tstat,df)\n",
        "  cv = norm.ppf(conf_0,df)\n",
        "  cv ='{:.3f}'.format(cv) \n",
        "\n",
        "print('[검정]')\n",
        "print('임계값 : {}, 검정통계량 : {:.3f}'.format(cv,tstat))\n",
        "print('유의수준 : {}, 유의확률 : {:.3f}'.format(conf_0,sp))\n",
        "print('신뢰구간 : {:.3f} ~ {:.3f}, 검정하고자 하는 값 : {:.3f}'.format(d-me,d+me,d0))"
      ]
    },
    {
      "cell_type": "code",
      "execution_count": null,
      "metadata": {
        "colab": {
          "base_uri": "https://localhost:8080/"
        },
        "id": "HZ2PwTFyU1m4",
        "outputId": "3dae4726-7658-4a4c-d80d-567513857558"
      },
      "outputs": [
        {
          "name": "stdout",
          "output_type": "stream",
          "text": [
            "[라이브러리 검정] equal_var = True\n",
            "검정통계량 : -3.657, 유의확률 : 0.008\n",
            "[라이브러리 검정] equal_var = False\n",
            "검정통계량 : -3.787, 유의확률 : 0.007\n"
          ]
        }
      ],
      "source": [
        "from scipy.stats import ttest_ind\n",
        "X1 = [1,2,3,7,9]\n",
        "X2 = [9,11,13,15]\n",
        "tstatt, pt = ttest_ind(X1, X2, equal_var = True) #모집단의 분산이 동일한지 여부\n",
        "tstatf, pf = ttest_ind(X1, X2, equal_var = False) #모집단의 분산이 동일한지 여부\n",
        "\n",
        "print('[라이브러리 검정] equal_var = True')\n",
        "print('검정통계량 : {:.3f}, 유의확률 : {:.3f}'.format(tstatt, pt))\n",
        "print('[라이브러리 검정] equal_var = False')\n",
        "print('검정통계량 : {:.3f}, 유의확률 : {:.3f}'.format(tstatf, pf))"
      ]
    },
    {
      "cell_type": "markdown",
      "metadata": {
        "id": "hIPY39kqaPVz"
      },
      "source": [
        "#### 2.2.2 대응표본 모평균 차이의 추정과 가설 검정 : Z분포, t분포\n",
        "서로 다른 두 집단의 비교"
      ]
    },
    {
      "cell_type": "markdown",
      "metadata": {
        "id": "gbNZjlrPfrGy"
      },
      "source": [
        "```\n",
        "표본의 크기가 30 이상인 경우 : z분포 활용\n"
      ]
    },
    {
      "cell_type": "code",
      "execution_count": null,
      "metadata": {
        "colab": {
          "base_uri": "https://localhost:8080/"
        },
        "id": "B08yxAOSfkun",
        "outputId": "396e5427-24f1-415b-a1a9-4fd50c3182d8"
      },
      "outputs": [
        {
          "name": "stdout",
          "output_type": "stream",
          "text": [
            "[추정]\n",
            "점추정량 : -0.206\n",
            "구간추정량 : -0.730 ~ 0.318\n",
            "오차한계 : 0.524\n",
            "\n",
            "[검정]\n",
            "임계값 : +/-1.960, 검정통계량 : -0.771\n",
            "유의수준 : 0.05, 유의확률 : 0.220\n",
            "신뢰구간 : -0.730 ~ 0.318, 검정하고자 하는 값 : 0.000\n",
            "\n"
          ]
        }
      ],
      "source": [
        "from scipy.stats import norm\n",
        "import numpy as np\n",
        "x1= np.random.randint(30,50,1000) # 0에서 100 사이의 숫자를 랜덤으로 40개 추출\n",
        "x2= np.random.randint(30,50,1000) # 50에서 100 사이의 숫자를 랜덤으로 40개 추출\n",
        "n = len(x1)\n",
        "df = n-1\n",
        "conf_0 = 0.05\n",
        "\n",
        "d0 = 0\n",
        "d = x1-x2 # 두 데이터 차이\n",
        "d_mean = np.mean(d) # 두 데이터 차이의 평균\n",
        "d_std = np.sqrt(sum((d-d_mean)**2) / df)\n",
        "se = d_std / np.sqrt(n) # 표준오차\n",
        "zstat = (d_mean - d0) / se\n",
        "conf_z = norm.ppf(1-conf_0/2)\n",
        "me = conf_z * se\n",
        "\n",
        "print('[추정]')\n",
        "print('점추정량 : {:.3f}'.format(d_mean))\n",
        "print('구간추정량 : {:.3f} ~ {:.3f}'.format(d_mean-me,d_mean+me))\n",
        "print('오차한계 : {:.3f}\\n'.format(me))\n",
        "\n",
        "## 검정을 해보자 \n",
        "\n",
        "'''\n",
        "H0 : 모평균의 차이가 D0과 같다 (두집단은 모평균의 차이가 없다)\n",
        "H1 : 두집단은 모평균의 차이가 없지 않다.\n",
        "'''\n",
        "conf_0 = 0.05\n",
        "d0 = 0\n",
        "d = x1-x2 # 두 데이터 차이\n",
        "d_mean = np.mean(d) # 두 데이터 차이의 평균\n",
        "d_std = np.sqrt(sum((d-d_mean)**2) / df)\n",
        "se = d_std / np.sqrt(n) # 표준오차\n",
        "zstat = (d_mean - d0) / se\n",
        "conf_z = norm.ppf(1-conf_0/2)\n",
        "me = conf_z * se\n",
        "\n",
        "ways ='two'\n",
        "if ways == 'two':\n",
        "  sp = 1-norm.cdf(np.abs(zstat))\n",
        "  cv = norm.ppf(1-conf_0/2)\n",
        "  cv ='+/-{:.3f}'.format(cv)\n",
        "elif ways =='one-right':\n",
        "  sp = 1-norm.cdf(zstat)\n",
        "  cv = norm.ppf(1-conf_0)\n",
        "  cv ='{:.3f}'.format(cv) \n",
        "elif ways =='one-left':\n",
        "  sp = norm.cdf(zstat)\n",
        "  cv = norm.ppf(conf_0)\n",
        "  cv ='{:.3f}'.format(cv) \n",
        "\n",
        "print('[검정]')\n",
        "print('임계값 : {}, 검정통계량 : {:.3f}'.format(cv,zstat))\n",
        "print('유의수준 : {}, 유의확률 : {:.3f}'.format(conf_0,sp))\n",
        "print('신뢰구간 : {:.3f} ~ {:.3f}, 검정하고자 하는 값 : {:.3f}\\n'.format(d_mean-me,d_mean+me,d0))\n",
        "\n",
        "# ttest_rel 는 t분포 검정을 활용한 것으로 z분포 검정에는 사용하지 않도록 한다. "
      ]
    },
    {
      "cell_type": "markdown",
      "metadata": {
        "id": "phHahz8PaBB9"
      },
      "source": [
        "``` \n",
        "표본 크기가 30 미만인 경우 : t분포 활용\n",
        "\n"
      ]
    },
    {
      "cell_type": "code",
      "execution_count": null,
      "metadata": {
        "colab": {
          "base_uri": "https://localhost:8080/"
        },
        "id": "HFibnHwUFdhz",
        "outputId": "549cee3b-88eb-4e64-e357-2823e1299c16"
      },
      "outputs": [
        {
          "name": "stdout",
          "output_type": "stream",
          "text": [
            "[추정]\n",
            "점추정량 : 2.750\n",
            "구간추정량 : -0.781 ~ 6.281\n",
            "오차한계 : 3.531\n",
            "\n",
            "[검정]\n",
            "임계값 : +/-2.093, 검정통계량 : 1.630\n",
            "유의수준 : 0.05, 유의확률 : 0.120\n",
            "신뢰구간 : -0.781 ~ 6.281, 검정하고자 하는 값 : 0.000\n",
            "\n",
            "[라이브러리검정]\n",
            "검정통계량 : 1.630, 유의확률:0.120\n"
          ]
        }
      ],
      "source": [
        "import numpy as np\n",
        "x1 = np.array([81, 79, 93, 80, 76, 75, 81, 92, 88, 79, 90, 78, 91, 77, 89, 90, 88, 82, 85, 83])\n",
        "x2 = np.array([82, 77, 78, 85, 86, 76, 75, 75, 85, 75, 83, 88, 77, 76, 86, 90, 88, 88, 75, 77])\n",
        "n= len(x1)\n",
        "df= n-1 \n",
        "conf_0 = 0.05\n",
        "\n",
        "d0= 0\n",
        "d = x1 - x2\n",
        "d_mean = np.mean(d)\n",
        "d_std = np.sqrt(sum((d-d_mean)**2) / df)\n",
        "se = d_std / np.sqrt(n)\n",
        "tstat = (d_mean - d0) / se\n",
        "conf_t = t.ppf(1-conf_0/2,df)\n",
        "me = conf_t * se\n",
        "\n",
        "\n",
        "print('[추정]')\n",
        "print('점추정량 : {:.3f}'.format(d_mean))\n",
        "print('구간추정량 : {:.3f} ~ {:.3f}'.format(d_mean-me,d_mean+me))\n",
        "print('오차한계 : {:.3f}\\n'.format(me))\n",
        "\n",
        "\n",
        "d0= 0\n",
        "d = x1 - x2\n",
        "d_mean = np.mean(d)\n",
        "d_std = np.sqrt(sum((d-d_mean)**2) / df)\n",
        "se = d_std / np.sqrt(n)\n",
        "tstat = (d_mean - d0) / se\n",
        "conf_t = t.ppf(1-conf_0/2,df)\n",
        "me = conf_t * se\n",
        "\n",
        "ways ='two'\n",
        "if ways == 'two':\n",
        "  sp = (1-t.cdf(np.abs(tstat),df))*2\n",
        "  cv = t.ppf(1-conf_0/2, df)\n",
        "  cv ='+/-{:.3f}'.format(cv)\n",
        "elif ways =='one-right':\n",
        "  sp = 1-t.cdf(tstat,df)\n",
        "  cv = norm.ppf(1-conf_0,df)\n",
        "  cv ='{:.3f}'.format(cv) \n",
        "elif ways =='one-left':\n",
        "  sp = norm.cdf(tstat,df)\n",
        "  cv = norm.ppf(conf_0,df)\n",
        "  cv ='{:.3f}'.format(cv) \n",
        "\n",
        "print('[검정]')\n",
        "print('임계값 : {}, 검정통계량 : {:.3f}'.format(cv,tstat))\n",
        "print('유의수준 : {}, 유의확률 : {:.3f}'.format(conf_0,sp))\n",
        "print('신뢰구간 : {:.3f} ~ {:.3f}, 검정하고자 하는 값 : {:.3f}\\n'.format(d_mean-me,d_mean+me,d0))\n",
        "\n",
        "from scipy.stats import ttest_rel\n",
        "tstat, pt = ttest_rel(x1, x2, alternative = 'two-sided')\n",
        "print('[라이브러리검정]')\n",
        "print('검정통계량 : {:.3f}, 유의확률:{:.3f}'.format(tstat,pt))\n",
        "\n",
        "# t분포를 활용한 검정은 ttest_rel 라이브러리로 바로 사용해도 무관하니 참고하자!"
      ]
    },
    {
      "cell_type": "markdown",
      "metadata": {
        "id": "3wCRPq_FaPTp"
      },
      "source": [
        "#### 2.2.3 독립표본 모비율 차이의 추정과 가설검정 : Z분포\n",
        "예 > 강남학교가 강북학교보다 사법고시를 많이 합격하나?"
      ]
    },
    {
      "cell_type": "code",
      "execution_count": null,
      "metadata": {
        "colab": {
          "base_uri": "https://localhost:8080/"
        },
        "id": "skXCa6kgFdx8",
        "outputId": "e63ad96b-1932-42f0-a558-bb00cca1a444"
      },
      "outputs": [
        {
          "name": "stdout",
          "output_type": "stream",
          "text": [
            "[추정]\n",
            "점추정량 : 0.080\n",
            "구간추정량 : -0.020 ~ 0.180\n",
            "오차한계 : 0.100\n",
            "\n",
            "[검정]\n",
            "임계값 : 1.645, 검정통계량 : 3.216\n",
            "유의수준 : 0.05, 유의확률 : 0.001\n",
            "신뢰구간 : -0.020 ~ 0.180, 검정하고자 하는 값 : 0.000\n",
            "\n"
          ]
        }
      ],
      "source": [
        "n1 = 250\n",
        "p1 = 120/250 \n",
        "n2 = 150\n",
        "p2 = 60/150\n",
        "\n",
        "conf_0 = 0.05\n",
        "\n",
        "from scipy.stats import norm\n",
        "d = p1-p2\n",
        "conf_z = norm.ppf(1-conf_0/2) # twoway이므로 /2\n",
        "se = np.sqrt(p1*(1-p1)/n1 + p2*(1-p2)/n2) \n",
        "me = conf_z * se\n",
        "\n",
        "print('[추정]')\n",
        "print('점추정량 : {:.3f}'.format(d))\n",
        "print('구간추정량 : {:.3f} ~ {:.3f}'.format(d-me,d+me))\n",
        "print('오차한계 : {:.3f}\\n'.format(me))\n",
        "\n",
        "## 독립표본 모비율 차이의 가설검정\n",
        "# H0 : 두집단 간의 모비율 차이가 없다.\n",
        "# H1 : 두집단 간의 모비율 차이가 있다.\n",
        "\n",
        "pe = (n1*p1+n2*p2)/(n1+n2) # Pooled estimate\n",
        "se2 = np.sqrt(pe*(1-pe)/(n1+n2))\n",
        "zstat = d /se2\n",
        "conf_z = norm.ppf(1-conf_0/2)\n",
        "me2 = conf_z * se2\n",
        "\n",
        "ways ='one-right' # \n",
        "if ways == 'two':\n",
        "  sp = 1-norm.cdf(np.abs(zstat))\n",
        "  cv = norm.ppf(1-conf_0/2)\n",
        "  cv ='+/-{:.3f}'.format(cv)\n",
        "elif ways =='one-right':\n",
        "  sp = 1-norm.cdf(zstat)\n",
        "  cv = norm.ppf(1-conf_0)\n",
        "  cv ='{:.3f}'.format(cv) \n",
        "elif ways =='one-left':\n",
        "  sp = norm.cdf(zstat)\n",
        "  cv = norm.ppf(conf_0)\n",
        "  cv ='{:.3f}'.format(cv) \n",
        "\n",
        "print('[검정]')\n",
        "print('임계값 : {}, 검정통계량 : {:.3f}'.format(cv, zstat))\n",
        "print('유의수준 : {}, 유의확률 : {:.3f}'.format(conf_0,sp))\n",
        "print('신뢰구간 : {:.3f} ~ {:.3f}, 검정하고자 하는 값 : {:.3f}\\n'.format(d-me,d+me,d0))\n",
        "# 추정시에는 대표본 근사분산을 가설검정시에는 합동분산을 사용하였다."
      ]
    },
    {
      "cell_type": "markdown",
      "metadata": {
        "id": "cFs8nmBWYxgr"
      },
      "source": [
        "#### 2.2.4 대응표본 모분산 비의 추정과 가설 검정 : F분포\n",
        "두 모집단의 분산을 비교하는 경우 분산의 차이를 비교하지 않고, 분산비를 계산한다.<br>\n",
        "(이 분산비가 1보다 큰지 작은지 여부를 확인)"
      ]
    },
    {
      "cell_type": "code",
      "execution_count": null,
      "metadata": {
        "colab": {
          "base_uri": "https://localhost:8080/"
        },
        "id": "_vghogZHFeJM",
        "outputId": "95d606a3-d314-4b70-90f5-8b1311b34a33"
      },
      "outputs": [
        {
          "name": "stdout",
          "output_type": "stream",
          "text": [
            "[추정]\n",
            "점추정량 : 0.764\n",
            "구간추정량 : 0.190 ~ 3.075\n"
          ]
        }
      ],
      "source": [
        "import numpy as np\n",
        "from scipy.stats import f \n",
        "sample1 = [272,255,278,282,296,312,356,296,302,312]\n",
        "sample2 = [276,280,369,285,303,317,290,250,313,307]\n",
        "n1= len(sample1)\n",
        "n2= len(sample2)\n",
        "df1 =n1-1\n",
        "df2 =n2-1\n",
        "v1= np.std(sample1,ddof=1)**2 \n",
        "v2= np.std(sample2,ddof=1)**2 \n",
        "conf_0 = 0.05\n",
        "\n",
        "fstat = v1/v2\n",
        "f1 = f.ppf(conf_0/2, df1,df2)\n",
        "f2 = f.ppf(1-conf_0/2, df1,df2)\n",
        "cr1 = f1 *fstat\n",
        "cr2 = f2 *fstat\n",
        "\n",
        "print('[추정]')\n",
        "print('점추정량 : {:.3f}'.format(fstat))\n",
        "print('구간추정량 : {:.3f} ~ {:.3f}'.format(cr1,cr2))\n",
        "\n",
        "## 모분산비의 가설검정\n",
        "\n",
        "\n"
      ]
    },
    {
      "cell_type": "markdown",
      "metadata": {
        "id": "8KQHvxmdYxjx"
      },
      "source": [
        "### 2.3 분산분석의 가정\n",
        "분산분석은 3개 이상의 집단의 모평균 차이를 검정하기 위해<br> 전체 제곱합과 자유도를 처리와 오차로 분할하는 과정<br>\n",
        "\n",
        "분산분석 시행을 위해 충족해야하는 가정으로는,\n",
        "- 정규성 : 각 표본의 반응변수는 정규분포여야 함\n",
        "  + Shapiro(소규모샘플), Daling anderson(대규모샘플), 콜모고로프 스미르노프, Jarque bera, QQ plot 등\n",
        "  + 귀무가설(H0) : 표본의 모집단이 정규분포와 차이가 없다 (정규성 만족)\n",
        "- 등분산성 : 집단의 반응변수의 분산이 동일\n",
        "  + Bartlett 검정 (정규성만족하는 샘플), Levene 검정 (정규성만족하지 않는 샘플)\n",
        "  + 귀무가설(H0) : 집단간 모분산에는 차이가 없다 (등분산 만족)\n"
      ]
    },
    {
      "cell_type": "markdown",
      "metadata": {
        "id": "o0SapviwNi1x"
      },
      "source": [
        "#### 2.3.1 정규성 검정\n"
      ]
    },
    {
      "cell_type": "code",
      "execution_count": null,
      "metadata": {
        "colab": {
          "base_uri": "https://localhost:8080/",
          "height": 406
        },
        "id": "MDtEXNgTNSju",
        "outputId": "404652b0-6806-4815-87db-9b72d674bddf"
      },
      "outputs": [
        {
          "name": "stdout",
          "output_type": "stream",
          "text": [
            "shapiro : 0.993 (p 0.869)\n",
            "anderson : 0.181 (critical value 0.759 significant level 0.050)\n",
            "kstest : 0.058 (p 0.867)\n",
            "jarque_bera : 0.597 (p 0.742)\n"
          ]
        },
        {
          "data": {
            "image/png": "[encoded data removed]",
            "text/plain": [
              "<Figure size 1000x300 with 2 Axes>"
            ]
          },
          "metadata": {},
          "output_type": "display_data"
        }
      ],
      "source": [
        "from scipy.stats import norm\n",
        "data = norm.rvs(size = 100, random_state=0) # 정규성을 만족하는 크기 100의 표본생성\n",
        "\n",
        "from scipy.stats import shapiro, anderson, jarque_bera, kstest,zscore, probplot\n",
        "# H0 : 표본 모집단이 정규성을 만족한다. \n",
        "# H1 : 표본 모집단이 정규성을 만족하지 않는다.\n",
        "\n",
        "# Shapiro : 검정통계량, p- value를 반환\n",
        "sstat, p  = shapiro(data)\n",
        "print('shapiro : {:.3f} (p {:.3f})'.format(sstat,p))\n",
        "\n",
        "# darling anderson : 검정통계량, 임계치, 유의수준을 반환 \n",
        "astat, cv, sl = anderson(data, dist = 'norm')\n",
        "print('anderson : {:.3f} (critical value {:.3f} significant level {:.3f})'.format(astat,cv[2], sl[2]*0.01))\n",
        "\n",
        "# kstest (콜모고로프 스미르노프) : 검정통계량, p- value를 반환\n",
        "kstat, p = kstest(data, cdf = norm.cdf)\n",
        "print('kstest : {:.3f} (p {:.3f})'.format(kstat,p))\n",
        "\n",
        "# jarque_bera :검정통계량, p- value, 왜도, 첨도 를 반환환\n",
        "jstat, p = jarque_bera(data)\n",
        "print('jarque_bera : {:.3f} (p {:.3f})'.format(jstat,p))\n",
        "\n",
        "# QQ plot and histogram\n",
        "import matplotlib.pyplot as plt\n",
        "%matplotlib inline\n",
        "zdata = zscore(data)\n",
        "fig, ax = plt.subplots(1,2,figsize=(10,3))\n",
        "\n",
        "# QQ plot : 데이터들이 대각선에 붙어있을수록 정규성을 만족하는 것으로 본다\n",
        "(osm, odr), (slope, intercept,r) = probplot(zdata, plot = ax[0])\n",
        "ax[0].set_title('QQ plot')\n",
        "\n",
        "# histogram \n",
        "ax[1].hist(data)\n",
        "ax[1].set_title('histogram')\n",
        "plt.show()"
      ]
    },
    {
      "cell_type": "markdown",
      "metadata": {
        "id": "bDCRXhIWNo80"
      },
      "source": [
        "#### 2.3.2 K표본 등분산 검정(Levene)"
      ]
    },
    {
      "cell_type": "code",
      "execution_count": null,
      "metadata": {
        "colab": {
          "base_uri": "https://localhost:8080/"
        },
        "id": "qhf2Gw7gNFLh",
        "outputId": "263af97f-9bc3-4539-b111-b0235ec9b0c7"
      },
      "outputs": [
        {
          "name": "stdout",
          "output_type": "stream",
          "text": [
            "[수기검정]\n",
            "오른쪽 검정의 임계값 : 3.682, 검정통계량 : 1.006\n",
            "유의수준 : 0.050, 유의확률 : 0.389\n",
            "\n",
            "[라이브러리 검정]\n",
            "stat 0.176, p-value 0.840\n",
            "\n"
          ]
        }
      ],
      "source": [
        "# 표본수가 동일한 Levene 검정\n",
        "import pandas as pd\n",
        "data = pd.DataFrame({'fac1':[48,54,57,54,62,74],\n",
        "                     'fac2':[73,63,66,64,74,80],\n",
        "                     'fac3':[51,63,61,54,56,82]})\n",
        "# H0 : 모든 그룹들의 모분산은 동일하다\n",
        "# H1 : 그룹들 중 적어도 한 그룹의 모분산이 동일하지 않다\n",
        "\n",
        "# 수작업업\n",
        "n1 = len(data['fac1'])\n",
        "n2 = len(data['fac2'])\n",
        "n3 = len(data['fac3'])\n",
        "N = n1 + n2 + n3\n",
        "k = data.shape[1] # 시료 그룹의 수 (수준수)\n",
        "df1 = k - 1 # 모집단 자유도\n",
        "df2 = N - k # 오차 자유도\n",
        "df3 = N - 1 # 전체 자유도\n",
        "\n",
        "means = np.array(data.mean(axis=0)) # 모집단별 평균, 각 수준의 평균\n",
        "zij1 = np.abs(data['fac1']-means[0])\n",
        "zij2 = np.abs(data['fac2']-means[0])\n",
        "zij3 = np.abs(data['fac3']-means[0])\n",
        "zi1 = zij1.mean()\n",
        "zi2 = zij2.mean()\n",
        "zi3 = zij3.mean()\n",
        "z = (zij1.sum()+zij2.sum()+zij3.sum())/(len(zij1)+len(zij2)+len(zij3))\n",
        "#z = 전체 zij의 평균\n",
        "\n",
        "F = df2 / df1 * (n1 * (zi1-z)**2 + n2*(zi2-z)**2 + n3*(zi3-z)**2) / sum((zij1-zi1)**2 + (zij2-zi2)**2 + (zij3-zi3)**2)\n",
        "\n",
        "from scipy.stats import f\n",
        "cv = f.ppf(1-conf_0, df1, df2) # cv보다 크면 기각\n",
        "sp = 1 - f.cdf(F,df1,df2)\n",
        "\n",
        "print('[수기검정]')\n",
        "print('오른쪽 검정의 임계값 : {:.3f}, 검정통계량 : {:.3f}'.format(cv,F))\n",
        "print('유의수준 : {:.3f}, 유의확률 : {:.3f}\\n'.format(conf_0, sp))\n",
        "\n",
        "# 라이브러리 검정 : 표본 수가 같든든지 다르든지 상관이 없다.\n",
        "from scipy.stats import levene\n",
        "lstat, p = levene(data['fac1'],data['fac2'],data['fac3'], center ='mean')\n",
        "print('[라이브러리 검정]')\n",
        "print('stat {:.3f}, p-value {:.3f}\\n'.format(lstat,p))"
      ]
    },
    {
      "cell_type": "code",
      "execution_count": null,
      "metadata": {
        "colab": {
          "base_uri": "https://localhost:8080/"
        },
        "id": "J5jDgSoOalew",
        "outputId": "e4626215-0ec8-4779-9d72-4c99ba5b2971"
      },
      "outputs": [
        {
          "name": "stdout",
          "output_type": "stream",
          "text": [
            "[라이브러리 검정]\n",
            "stat 0.096, p-value 0.909\n",
            "\n"
          ]
        }
      ],
      "source": [
        "# 표본수가 다른 Levene 검정\n",
        "from scipy.stats import levene\n",
        "data = [[36,41,42,49],[40,48,39,45,44],[35,37,42,34,32]]\n",
        "lstat, p = levene(data[0],data[1],data[2], center ='mean')\n",
        "print('[라이브러리 검정]')\n",
        "print('stat {:.3f}, p-value {:.3f}\\n'.format(lstat,p))"
      ]
    },
    {
      "cell_type": "markdown",
      "metadata": {
        "id": "PTUByrs6NwW0"
      },
      "source": [
        "#### 2.3.3 K표본 등분산 검정(Bartlett)"
      ]
    },
    {
      "cell_type": "code",
      "execution_count": null,
      "metadata": {
        "colab": {
          "base_uri": "https://localhost:8080/"
        },
        "id": "-1dxYegyNTdu",
        "outputId": "ee172f3e-90c2-41f6-e719-c831f2b0c2b9"
      },
      "outputs": [
        {
          "name": "stdout",
          "output_type": "stream",
          "text": [
            "[라이브러리 검정]\n",
            "stat 1.082, p-value 0.582\n",
            "\n"
          ]
        }
      ],
      "source": [
        "# 라이브러리 검정 : 표본수가 같든지 다르던지 상관이 없다.\n",
        "from scipy.stats import bartlett\n",
        "\n",
        "# 정규성 샘플 생성\n",
        "data1 = norm.rvs(size=50, random_state =0)\n",
        "data2 = norm.rvs(size=50, random_state =1)\n",
        "data3 = norm.rvs(size=50, random_state =2)\n",
        "\n",
        "bstat, p = bartlett(data1, data2, data3)\n",
        "print('[라이브러리 검정]')\n",
        "print('stat {:.3f}, p-value {:.3f}\\n'.format(bstat,p))"
      ]
    },
    {
      "cell_type": "markdown",
      "metadata": {
        "id": "ct-9tLmDNUSP"
      },
      "source": [
        "### 2.4 분산분석 \n",
        "T검정이 두 집단간의 평균 차이를 비교하는 통계 분석 방법이라면 <br>\n",
        "분산분석은 두개 이상의 다수 집단 간 평균을 비교하는 통계분석 방법<br>\n",
        "- 두개 이상의 집단들의 평균이 같은가?<br>\n",
        "- 분산분석의 종류\n",
        "\n",
        "구분|명칭|독립변수개수|종속변수개수|\n",
        "----|----|----|----|\n",
        "단일변량분산분석|onewayANOVA|1개|1개|\n",
        "|twowayANOVA|2개|1개|\n",
        "다변량분산분석|MANOVA|1개 이상|2개 이상|\n",
        "\n",
        "\n",
        "\n",
        "\n",
        "\n",
        "\n"
      ]
    },
    {
      "cell_type": "markdown",
      "metadata": {
        "id": "XnMTsKbjc8rc"
      },
      "source": [
        "#### 2.4.1 등분산인 one-way ANOVA\n",
        "- 반응값에 대한 하나의 범주형 변수의 영향을 알아보기위해 사용되는 검증방법\n",
        "- 모집단의 수에는 제한이 없으며 각 표본의 수는 같지 않아도 된다\n",
        "- F검정통계량을 이용<br>\n",
        "![](https://drive.google.com/uc?id=1vfIU8dB8BCzL0_0hsBQoj1KR8UhUfdBJ)<br><br>\n",
        "\n",
        "\n",
        "\n",
        "요인|제곱합|자유도|평균제곱|F-value|\n",
        "----|----|----|----|----|\n",
        "집단 간|SSB|집단수-1|집단간제곱합/자유도|\n",
        "집단 내|SSW|자료수-집단수|집단내제곱합/자유도|집단간평균제곱|\n",
        "합 계 |TSS|자료수-1|-|/집단내평균제곱\n",
        "\n",
        "- 가정 : 집단간 측정치는 서로 독립적, 정규분포 따르고, 분산은 같다.\n",
        "- 가설\n",
        "  + H0 : k개의 집단 간 모평균에는 차이가 없다. 즉 같다고 할 수 있음 \n",
        "  + H1 : k개의 집단 간 모평균이 모두 같다고 할 수는 없음\n",
        "- 사후검정 \n",
        "  + 분산분서의 결과, 귀무가설이 기각되어 적어도 한집단에서 평균의 차이가 통계적으로 증명만 가능 \n",
        "  + 하지만 정확히 어느 그룹의 평균값이 의미가 있는지는 알려주지 않기에 따라서 추가적인 사후분석(Post Hoc Analysis) 이 필요\n",
        "\n",
        "[statsmodels활용한 ANOVA](https://partrita.github.io/posts/ANOVA-python/)\n"
      ]
    },
    {
      "cell_type": "code",
      "execution_count": null,
      "metadata": {
        "colab": {
          "base_uri": "https://localhost:8080/"
        },
        "id": "SRFK8qiEcCVH",
        "outputId": "bf11c265-0647-4884-d99d-c3ecd764896c"
      },
      "outputs": [
        {
          "name": "stdout",
          "output_type": "stream",
          "text": [
            "데이터 확인\n",
            "   A0  A1  A2  A3\n",
            "0  48  73  51  81\n",
            "1  54  63  63  74\n",
            "2  57  66  61  76\n",
            "3  54  64  54  78\n",
            "4  62  74  56  73\n",
            "5  74  80  82  70\n",
            "\n",
            "[수기검정]\n",
            "수준 별 평균 [58.17 70.   61.17 75.33]\n",
            "수준 별 표본의 분산 [ 80.97  45.2  123.77  15.07]\n",
            "자유도 3,20\n",
            "\n",
            "SSR : 1126.333, SSE : 1325.000, SST : 2451.333\n",
            "MSR : 375.444, MSE : 66.250, F : 5.667\n",
            "\n",
            "오른쪽 검정의 임계값 : 3.098, 검정통계량 :5.667\n",
            "유의수준 : 0.050, 유의확률 :0.006\n",
            "\n",
            "[라이브러리 검정]\n",
            "stat : 5.667, p-value : 0.006\n",
            "\n"
          ]
        }
      ],
      "source": [
        "import pandas as pd\n",
        "import numpy as np\n",
        "data = pd.DataFrame({\n",
        "    'A0':[48,54,57,54,62,74],\n",
        "    'A1':[73,63,66,64,74,80],\n",
        "    'A2':[51,63,61,54,56,82],\n",
        "    'A3':[81,74,76,78,73,70]})\n",
        "conf_0 = 0.05\n",
        "print('데이터 확인')\n",
        "print(data)\n",
        "print()\n",
        "\n",
        "means = np.array(data.mean(axis=0)) # 모집단(수준)별 평균\n",
        "mu = np.mean(data.values) # 전체 평균\n",
        "Vs = np.array(data.std(axis=0, ddof = 1)**2) # 모집단(수준)별 평균\n",
        "n = len(data.values.flatten()) #표본전체개수\n",
        "k = data.shape[0] # 모집단 별 표본개수\n",
        "level = data.shape[1] # 모집단(수준)의 개수\n",
        "dfr = level -1 # 모집단(수준) 자유도\n",
        "dfe = n - dfr - 1  # 오차 자유도 \n",
        "\n",
        "print('[수기검정]')\n",
        "print('수준 별 평균', means.round(2))\n",
        "print('수준 별 표본의 분산', Vs.round(2))\n",
        "print('자유도 {},{}\\n'.format(dfr, dfe))\n",
        "\n",
        "# H0 : 모든 모집단의 평균이 동일하다\n",
        "# H1 : 모든 모집단의 평균이 동일한 것은 아니다.\n",
        "SSR = (k * (means-mu)**2).sum() # 처리제곱 : 처리 평균들과 전체 평균의 제곱합\n",
        "SSE = ((k-1)*Vs).sum() # 오차제곱 : 처리분산들과 오차 자유도를 곱한 합\n",
        "SST = ((data.values - mu)**2).sum() # SSR + SSE\n",
        "MSR = SSR/dfr\n",
        "MSE = SSE/dfe\n",
        "F = MSR / MSE\n",
        "print(\"SSR : {:.3f}, SSE : {:.3f}, SST : {:.3f}\".format(SSR,SSE,SST))\n",
        "print(\"MSR : {:.3f}, MSE : {:.3f}, F : {:.3f}\\n\".format(MSR,MSE,F))\n",
        "\n",
        "from scipy.stats import f\n",
        "cv = f.ppf(1-conf_0, dfr, dfe)\n",
        "sp = 1-f.cdf(F, dfr, dfe)\n",
        "print('오른쪽 검정의 임계값 : {:.3f}, 검정통계량 :{:.3f}'.format(cv,F))\n",
        "print('유의수준 : {:.3f}, 유의확률 :{:.3f}\\n'.format(conf_0, sp))\n",
        "\n",
        "#라이브러리\n",
        "print('[라이브러리 검정]')\n",
        "from  statsmodels.stats.oneway import anova_oneway\n",
        "oa = anova_oneway(data.melt()['value'],\n",
        "                  groups = data.melt()['variable'],\n",
        "                  use_var = 'equal')\n",
        "print('stat : {:.3f}, p-value : {:.3f}\\n'.format(oa.statistic, oa.pvalue))"
      ]
    },
    {
      "cell_type": "markdown",
      "metadata": {
        "id": "PT203a6QsyG1"
      },
      "source": [
        "사후분석을 진행"
      ]
    },
    {
      "cell_type": "code",
      "execution_count": null,
      "metadata": {
        "colab": {
          "base_uri": "https://localhost:8080/",
          "height": 763
        },
        "id": "zXLET2hAEG64",
        "outputId": "dd6647e0-60d5-4e63-d138-32a8d49e3c71"
      },
      "outputs": [
        {
          "name": "stdout",
          "output_type": "stream",
          "text": [
            "[라이브러리 검정]\n",
            " Multiple Comparison of Means - Tukey HSD, FWER=0.05 \n",
            "=====================================================\n",
            "group1 group2 meandiff p-adj   lower    upper  reject\n",
            "-----------------------------------------------------\n",
            "    A0     A1  11.8333 0.0874  -1.3197 24.9863  False\n",
            "    A0     A2      3.0 0.9183  -10.153  16.153  False\n",
            "    A0     A3  17.1667 0.0079   4.0137 30.3197   True\n",
            "    A1     A2  -8.8333 0.2679 -21.9863  4.3197  False\n",
            "    A1     A3   5.3333 0.6729  -7.8197 18.4863  False\n",
            "    A2     A3  14.1667 0.0319   1.0137 27.3197   True\n",
            "-----------------------------------------------------\n"
          ]
        },
        {
          "data": {
            "image/png": "[encoded data removed]",
            "text/plain": [
              "<Figure size 1000x600 with 1 Axes>"
            ]
          },
          "metadata": {},
          "output_type": "display_data"
        }
      ],
      "source": [
        "# 사후 검정 (정규성 0, 등분산 0, 샘플사이즈 동일 0 - Tukey HSD)\n",
        "from statsmodels.stats.multicomp import MultiComparison\n",
        "import matplotlib.pyplot as plt\n",
        "from scipy.stats import ttest_ind\n",
        "\n",
        "print('[라이브러리 검정]')\n",
        "org_data = data.melt()\n",
        "mc = MultiComparison(data = org_data['value'],\n",
        "                     groups=org_data['variable']).tukeyhsd(alpha=0.05)\n",
        "print(mc)\n",
        "mc.plot_simultaneous()\n",
        "plt.show()"
      ]
    },
    {
      "cell_type": "markdown",
      "metadata": {
        "id": "YEvQzvsKK-uu"
      },
      "source": [
        "- 사후검정 결과 A0-A2, A2-A3 간의 모평균의 차이가 있는 것으로 확인하였다\n",
        "- meandiff는 각 그룹간 모평균 차의 점 추정량이고 lower ~ upper는 모평균차의 신뢰구간을 나타낸다.\n",
        "- p-adj는 조정된 p-value로서 유의수준 0.05보다 적은 경우 reject True로 판별되어 귀무가설을 기각하게 된다.\n",
        "\n"
      ]
    },
    {
      "cell_type": "markdown",
      "metadata": {
        "id": "pudU8KFIni3b"
      },
      "source": [
        "[one-way ANOVA 비정규 실습](https://velog.io/@robin_dev/Python-%ED%86%B5%EA%B3%84-%EC%8B%A4%EC%8A%B5-%EC%9D%BC%EC%9B%90-%EB%B6%84%EC%82%B0-%EB%B6%84%EC%84%9D-one-way-ANOVA)"
      ]
    },
    {
      "cell_type": "markdown",
      "metadata": {
        "id": "3RzqP3bIc8pY"
      },
      "source": [
        "#### 2.4.2 이분산인 two-way ANOVA\n",
        "[onewayANOVA와의 차이](https://m.blog.naver.com/sw4r/221879802736) : 독립변수를 두개로 비교함 <br>\n",
        "예> 성별과 학년에 따른 시험점수의 차이\n",
        "- 두개의 독립변수 A, B 사이에 상관관계가 있는지를 살펴보는 교호작용에 대한 검증이 반드시 진행되어야 한다.\n",
        " + SST  = 총 오차제곱합\n",
        " + SSA  = 요인 A수준 평균값들 사이의 제곱합\n",
        " + SSB  = 요인 B수준 평균값들 사이의 제곱합 \n",
        " + SSE  = 오차제곱합 | SSW : 집단내 변화량\n",
        "- 가정\n",
        "  + 집단의 측정치는 서로 독립적이며 정규분포를 따른다\n",
        "  + 집단 측정치의 분산은 같다 (등분산 가정)\n",
        "- 가설 : 이원배치분산의 귀무가설은 3개\n",
        "  + H0_1 : a변수와 b변수간의 교호작용이 없다.\n",
        "  + H0_2 : a변수에 따라 종속변수의 값에는 차이가 없다.\n",
        "  + H0_3 : b변수에 따라 종속변수의 값에는 차이가 없다\n"
      ]
    },
    {
      "cell_type": "code",
      "execution_count": null,
      "metadata": {
        "colab": {
          "base_uri": "https://localhost:8080/",
          "height": 175
        },
        "id": "cEOXfJN5cCvx",
        "outputId": "c30f2d2e-a298-4577-df1d-f4f4001059b2"
      },
      "outputs": [
        {
          "data": {
            "text/html": [
              "<div>\n",
              "<style scoped>\n",
              "    .dataframe tbody tr th:only-of-type {\n",
              "        vertical-align: middle;\n",
              "    }\n",
              "\n",
              "    .dataframe tbody tr th {\n",
              "        vertical-align: top;\n",
              "    }\n",
              "\n",
              "    .dataframe thead th {\n",
              "        text-align: right;\n",
              "    }\n",
              "</style>\n",
              "<table border=\"1\" class=\"dataframe\">\n",
              "  <thead>\n",
              "    <tr style=\"text-align: right;\">\n",
              "      <th></th>\n",
              "      <th>df</th>\n",
              "      <th>sum_sq</th>\n",
              "      <th>mean_sq</th>\n",
              "      <th>F</th>\n",
              "      <th>PR(&gt;F)</th>\n",
              "    </tr>\n",
              "  </thead>\n",
              "  <tbody>\n",
              "    <tr>\n",
              "      <th>C(cyl)</th>\n",
              "      <td>2.0</td>\n",
              "      <td>824.78</td>\n",
              "      <td>412.39</td>\n",
              "      <td>44.85</td>\n",
              "      <td>0.00</td>\n",
              "    </tr>\n",
              "    <tr>\n",
              "      <th>C(am)</th>\n",
              "      <td>1.0</td>\n",
              "      <td>36.77</td>\n",
              "      <td>36.77</td>\n",
              "      <td>4.00</td>\n",
              "      <td>0.06</td>\n",
              "    </tr>\n",
              "    <tr>\n",
              "      <th>C(cyl):C(am)</th>\n",
              "      <td>2.0</td>\n",
              "      <td>25.44</td>\n",
              "      <td>12.72</td>\n",
              "      <td>1.38</td>\n",
              "      <td>0.27</td>\n",
              "    </tr>\n",
              "    <tr>\n",
              "      <th>Residual</th>\n",
              "      <td>26.0</td>\n",
              "      <td>239.06</td>\n",
              "      <td>9.19</td>\n",
              "      <td>NaN</td>\n",
              "      <td>NaN</td>\n",
              "    </tr>\n",
              "  </tbody>\n",
              "</table>\n",
              "</div>"
            ],
            "text/plain": [
              "                df  sum_sq  mean_sq      F  PR(>F)\n",
              "C(cyl)         2.0  824.78   412.39  44.85    0.00\n",
              "C(am)          1.0   36.77    36.77   4.00    0.06\n",
              "C(cyl):C(am)   2.0   25.44    12.72   1.38    0.27\n",
              "Residual      26.0  239.06     9.19    NaN     NaN"
            ]
          },
          "execution_count": 27,
          "metadata": {},
          "output_type": "execute_result"
        }
      ],
      "source": [
        "import pandas as pd\n",
        "from statsmodels.formula.api import ols\n",
        "from statsmodels.stats.anova import anova_lm\n",
        "mtcars = pd.read_csv('https://raw.githubusercontent.com/Datamanim/dataq/main/mtcars.csv',index_col=0)\n",
        "mtcars = mtcars[['mpg',\t'cyl', 'am']] \n",
        "\n",
        "fm = 'mpg ~ C(cyl) +C(am)+ C(cyl):C(am)'\n",
        "model = ols(fm, mtcars).fit()\n",
        "result = anova_lm(model)\n",
        "result.round(2)"
      ]
    },
    {
      "cell_type": "code",
      "execution_count": null,
      "metadata": {
        "id": "e9TXM4CBiEzY",
        "outputId": "7c8c7304-0500-49a4-be63-10c80b1e7116"
      },
      "outputs": [
        {
          "data": {
            "image/png": "[encoded data removed]",
            "text/plain": [
              "<Figure size 600x600 with 1 Axes>"
            ]
          },
          "metadata": {},
          "output_type": "display_data"
        }
      ],
      "source": [
        "from statsmodels.graphics.factorplots import interaction_plot\n",
        "import matplotlib.pyplot as plt\n",
        "\n",
        "cyl = mtcars['cyl']\n",
        "am = mtcars['am']\n",
        "mpg = mtcars['mpg']\n",
        "fig, ax = plt.subplots(figsize=(6,6))\n",
        "fig = interaction_plot(cyl,am,mpg, \n",
        "colors =['red','blue'], markers = ['o','^'],\n",
        "ms=10, ax = ax)"
      ]
    },
    {
      "cell_type": "markdown",
      "metadata": {
        "id": "7sjOY16IiEzZ"
      },
      "source": [
        "이진변수인 0,1을 확인함으로써 cyl 변수와 am 변수 사이에 교호작용이 없음을 확인하였다.\n"
      ]
    },
    {
      "cell_type": "markdown",
      "metadata": {
        "id": "NYusyjhszMw0"
      },
      "source": [
        "### 2.5 교차분석 (카이제곱검정)\n",
        "- 교차분석은 관찰빈도와 기대빈도가 유의미한 차이가 있는지 검정\n",
        "- 종속변수가 범주형일 때 카이제곱 사용 vs t-test / ANOVA는  연속형\n",
        "  + 종속변수의 분포 설명 or 두개 이상의 범주형 변수가 상관이 있는지 검정하는 목적\n",
        "- 교차표를 통해 알아보자\n",
        "\n",
        "구분|환자군|대조군|전체|\n",
        "----|----|----|----|\n",
        "과체중|25|15|40(40%)|\n",
        "정상|10|50|60(60%)|\n",
        "전체|35(35%)|65(65%)|100(100%)|\n",
        "\n",
        "+  과체중 관찰빈도 25명, 기대빈도 35*40% = 14명임. 이 차이가 유의한 의미가 있는지 카이제곱 통계량을 이용하여 검정\n",
        "    + 각 범주의 기대 빈도는 5이상이어야 한다.\n"
      ]
    },
    {
      "cell_type": "markdown",
      "metadata": {
        "id": "11N7DiPjiEzZ"
      },
      "source": [
        "\n",
        "카이 제곱 검정은 적합성 검정과 독립성 검정이 잇다\n"
      ]
    },
    {
      "cell_type": "markdown",
      "metadata": {
        "id": "HpG9Cbgu2BqM"
      },
      "source": [
        "#### 2.5.1 적합성 검정\n",
        "- 범주 데이터의 빈도 분포가, 기대 분포를 따르는가\n",
        "    + 예 > 주사위를 굴렸을 때 각 주사위의 값이 1/6 확률이 맞나\n",
        "\n",
        "- scipy.stats.chisquare(f_obs, f_exp, axis = 0)\n",
        "\n",
        "매개변수|설명|\n",
        "----|----|\n",
        "f_obs|- 데이터 타입(기본값) : array_like <br> - 관찰빈도로 pd.value_counts() 결과값을 입력|\n",
        "f_exp |- 데이터 타입 : array_like(defalut=가능성이 동일하다고 가정) <br> - 각 카테고리의 기대빈도|\n",
        "ddof |- 데이터 타입 : int(default=0) <br>- p-value에 대한 자유도 조정<br>- 자유도 : k-1 <br>※ k:관찰된 범주의 수, 주사위의 수가 1~6이면 k는 6,ddof 5|\n"
      ]
    },
    {
      "cell_type": "markdown",
      "metadata": {
        "id": "HsvD_ILuiEzZ"
      },
      "source": [
        "타이타닉 데이터로 실습해보자.\n",
        "H0 성별, 생존자의 분포가 동일하지 않을까?\n"
      ]
    },
    {
      "cell_type": "code",
      "execution_count": null,
      "metadata": {
        "id": "_UYtdjs_cEWD",
        "outputId": "417fcb58-7ba0-4b8d-9c46-f97937cb535b"
      },
      "outputs": [
        {
          "data": {
            "text/plain": [
              "Sex   \n",
              "female    233\n",
              "male      109\n",
              "dtype: int64"
            ]
          },
          "execution_count": 29,
          "metadata": {},
          "output_type": "execute_result"
        }
      ],
      "source": [
        "import pandas as pd\n",
        "# 타이타닉데이터에서 성별 간 생존자 차이가 있는지\n",
        "df = pd.read_csv('https://raw.githubusercontent.com/algoboni/pythoncodebook1/main/1-1_titanic.csv')\n",
        "df_t= df[df['Survived']==1]\n",
        "table = df_t[['Sex']].value_counts()\n",
        "table"
      ]
    },
    {
      "cell_type": "markdown",
      "metadata": {
        "id": "JJKYGvpeiEza"
      },
      "source": [
        "교차분석을 진행하기 위해 명목형 변수  Sex에 대한 도수분포표를 생성하여 <br>\n",
        "범주형 관찰빈도를 확인하고 적합도 검정시행, p값이 0.05보다 작아서 통계적으로 유의함"
      ]
    },
    {
      "cell_type": "code",
      "execution_count": null,
      "metadata": {
        "id": "L3j8JDW7iEza",
        "outputId": "7dcf4398-0e09-4a45-f64d-e95071bb2033"
      },
      "outputs": [
        {
          "name": "stdout",
          "output_type": "stream",
          "text": [
            "통계량 : 44.96\n",
            "p-value: 2.011967257447723e-11\n"
          ]
        }
      ],
      "source": [
        "# 유의수준 0.05로 적합성검정시행\n",
        "from scipy.stats import chisquare\n",
        "chi, p = chisquare(table, f_exp = [171,171]) \n",
        "print(f'통계량 : {chi:.2f}')\n",
        "print(f'p-value: {p}')"
      ]
    },
    {
      "cell_type": "markdown",
      "metadata": {
        "id": "H6T-K8tHiEza"
      },
      "source": [
        "#### 2.5.2 독립성 검정\n",
        "- 모집단이 두 변수 A,B 에 의해 범주화 되었을 때, 두 변수의 관계가 독립인지 아닌지를 검정<br>\n",
        "예> 환자의 비만여부, 대사성질환유무가 주어졌을때 비만에 따른 질환 비율에 차이가 존재하는지\n",
        "- scipy.stats.chi2_contingency((observrd, correction = True, lambda_ = None))\n",
        "매개변수|설명|\n",
        "----|----|\n",
        "observed|- 데이터 타입(기본값) : array_like <br> - 관찰빈도로 pd.crosstab 결과값을 입력|\n",
        "chi2|- 카이제곱 통계량|\n",
        "p |p-value|\n",
        "expected |테이블의 합계를 기반으로 한 기대빈도|\n"
      ]
    },
    {
      "cell_type": "code",
      "execution_count": null,
      "metadata": {
        "id": "G2GHuILHiEza",
        "outputId": "f33b4790-34d4-4a5c-85ba-868285ee7f3e"
      },
      "outputs": [
        {
          "data": {
            "text/html": [
              "<div>\n",
              "<style scoped>\n",
              "    .dataframe tbody tr th:only-of-type {\n",
              "        vertical-align: middle;\n",
              "    }\n",
              "\n",
              "    .dataframe tbody tr th {\n",
              "        vertical-align: top;\n",
              "    }\n",
              "\n",
              "    .dataframe thead th {\n",
              "        text-align: right;\n",
              "    }\n",
              "</style>\n",
              "<table border=\"1\" class=\"dataframe\">\n",
              "  <thead>\n",
              "    <tr style=\"text-align: right;\">\n",
              "      <th>Survived</th>\n",
              "      <th>0</th>\n",
              "      <th>1</th>\n",
              "    </tr>\n",
              "    <tr>\n",
              "      <th>Pclass</th>\n",
              "      <th></th>\n",
              "      <th></th>\n",
              "    </tr>\n",
              "  </thead>\n",
              "  <tbody>\n",
              "    <tr>\n",
              "      <th>1</th>\n",
              "      <td>80</td>\n",
              "      <td>136</td>\n",
              "    </tr>\n",
              "    <tr>\n",
              "      <th>2</th>\n",
              "      <td>97</td>\n",
              "      <td>87</td>\n",
              "    </tr>\n",
              "    <tr>\n",
              "      <th>3</th>\n",
              "      <td>372</td>\n",
              "      <td>119</td>\n",
              "    </tr>\n",
              "  </tbody>\n",
              "</table>\n",
              "</div>"
            ],
            "text/plain": [
              "Survived    0    1\n",
              "Pclass            \n",
              "1          80  136\n",
              "2          97   87\n",
              "3         372  119"
            ]
          },
          "execution_count": 31,
          "metadata": {},
          "output_type": "execute_result"
        }
      ],
      "source": [
        "df = pd.read_csv('https://raw.githubusercontent.com/algoboni/pythoncodebook1/main/1-1_titanic.csv')\n",
        "df_t= pd.crosstab(df['Pclass'],df['Survived'])\n",
        "df_t"
      ]
    },
    {
      "cell_type": "markdown",
      "metadata": {
        "id": "32oNcu69iEza"
      },
      "source": [
        "H0 : Pclass와 Survive는 독립적이다"
      ]
    },
    {
      "cell_type": "code",
      "execution_count": null,
      "metadata": {
        "id": "yc9poOMQiEza",
        "outputId": "6f8757b8-52ea-4e1a-8f0c-3d471300ccad"
      },
      "outputs": [
        {
          "name": "stdout",
          "output_type": "stream",
          "text": [
            "통계량 : 102.89\n",
            "p-value:  4.549251711298793e-23\n",
            "ddof: 2\n",
            "기대빈도:\n",
            " [[133.1  82.9]\n",
            " [113.4  70.6]\n",
            " [302.5 188.5]]\n"
          ]
        }
      ],
      "source": [
        "from scipy.stats import chi2_contingency\n",
        "chi, p , ddof, expect = chi2_contingency(df_t) \n",
        "print(f'통계량 : {chi:.2f}')\n",
        "print('p-value: ',p)\n",
        "print(f'ddof: {ddof}')\n",
        "print(f'기대빈도:\\n {expect.round(1)}')"
      ]
    },
    {
      "cell_type": "markdown",
      "metadata": {
        "id": "T8viEJCPiEza"
      },
      "source": [
        "p-value가 유의수준보다 작으므로 귀무가설을 기각 하여 좌석등급과 생존여부는 독립이 아니다."
      ]
    }
  ],
  "metadata": {
    "colab": {
      "provenance": [],
      "toc_visible": true,
      "include_colab_link": true
    },
    "kernelspec": {
      "display_name": "tw39",
      "language": "python",
      "name": "tw39"
    },
    "language_info": {
      "codemirror_mode": {
        "name": "ipython",
        "version": 3
      },
      "file_extension": ".py",
      "mimetype": "text/x-python",
      "name": "python",
      "nbconvert_exporter": "python",
      "pygments_lexer": "ipython3",
      "version": "3.9.16"
    }
  },
  "nbformat": 4,
  "nbformat_minor": 0
}