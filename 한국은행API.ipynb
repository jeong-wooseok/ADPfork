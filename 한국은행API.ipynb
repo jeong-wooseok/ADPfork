{
  "nbformat": 4,
  "nbformat_minor": 0,
  "metadata": {
    "colab": {
      "provenance": [],
      "authorship_tag": "ABX9TyPy8a/H4airdiFcPcV+ZJT/",
      "include_colab_link": true
    },
    "kernelspec": {
      "name": "python3",
      "display_name": "Python 3"
    }
  },
  "cells": [
    {
      "cell_type": "markdown",
      "metadata": {
        "id": "view-in-github",
        "colab_type": "text"
      },
      "source": [
        "<a href=\"https://colab.research.google.com/github/jeong-wooseok/ADPfork/blob/master/%ED%95%9C%EA%B5%AD%EC%9D%80%ED%96%89API.ipynb\" target=\"_parent\"><img src=\"https://colab.research.google.com/assets/colab-badge.svg\" alt=\"Open In Colab\"/></a>"
      ]
    },
    {
      "cell_type": "code",
      "metadata": {
        "id": "OtGFoIK5FMcz",
        "colab": {
          "base_uri": "https://localhost:8080/",
          "height": 35
        },
        "outputId": "953ace30-718c-464f-f3cc-bfe675acdd6f"
      },
      "source": [
        "import json\n",
        "import pandas as pd\n",
        "import requests\n",
        "\n",
        "api_key = \"JYWDZURGKQQFBLAM4ZMT/\" \n",
        "file_type = \"json/\" \n",
        "lang_type = \"kr/\" \n",
        "start_no = \"1/\" \n",
        "end_no = \"100/\" \n",
        "stat_code = \"111Y002/\" \n",
        "cycle_type = \"YY/\" \n",
        "start_date = \"1991/\"\n",
        "end_date = \"2018/\" \n",
        "item_1 = \"10101/\" \n",
        "item_2 = \"\" \n",
        "item_3 = \"\" \n",
        "url = (\"http://ecos.bok.or.kr/api/StatisticSearch/\"+api_key+file_type+ lang_type+ start_no+ end_no+ stat_code+ cycle_type+ start_date+ end_date+ item_1+ item_2+ item_3)\n",
        "url\n",
        "#출처: https://econbigdata.tistory.com/52 [경제 빅데이터 저장소]"
      ],
      "execution_count": 1,
      "outputs": [
        {
          "output_type": "execute_result",
          "data": {
            "text/plain": [
              "'http://ecos.bok.or.kr/api/StatisticSearch/JYWDZURGKQQFBLAM4ZMT/json/kr/1/100/111Y002/YY/1991/2018/10101/'"
            ],
            "application/vnd.google.colaboratory.intrinsic+json": {
              "type": "string"
            }
          },
          "metadata": {},
          "execution_count": 1
        }
      ]
    },
    {
      "cell_type": "code",
      "metadata": {
        "id": "peHwcwoQFQQZ",
        "colab": {
          "base_uri": "https://localhost:8080/"
        },
        "outputId": "ea98f675-8129-43a7-e79a-891d27641eee"
      },
      "source": [
        "data = requests.get(url).text\n",
        "data_j = json.loads(data)\n",
        "data_j"
      ],
      "execution_count": 5,
      "outputs": [
        {
          "output_type": "execute_result",
          "data": {
            "text/plain": [
              "{'RESULT': {'CODE': 'INFO-100',\n",
              "  'MESSAGE': '인증키가 유효하지 않습니다. 인증키를 확인하십시오! 인증키가 없는 경우 인증키를 신청하십시오!'}}"
            ]
          },
          "metadata": {},
          "execution_count": 5
        }
      ]
    },
    {
      "cell_type": "code",
      "metadata": {
        "id": "fD_U2KpzG-x-",
        "colab": {
          "base_uri": "https://localhost:8080/",
          "height": 158
        },
        "outputId": "012fcba9-f3bb-443c-a5c7-86b6eb40847c"
      },
      "source": [
        "df.index = df.TIME\n",
        "df = df[['DATA_VALUE']]\n",
        "df['DATA_VALUE'] = df['DATA_VALUE'].astype(float)\n",
        "df.info()"
      ],
      "execution_count": null,
      "outputs": [
        {
          "output_type": "stream",
          "text": [
            "<class 'pandas.core.frame.DataFrame'>\n",
            "Index: 28 entries, 1991 to 2018\n",
            "Data columns (total 1 columns):\n",
            " #   Column      Non-Null Count  Dtype  \n",
            "---  ------      --------------  -----  \n",
            " 0   DATA_VALUE  28 non-null     float64\n",
            "dtypes: float64(1)\n",
            "memory usage: 448.0+ bytes\n"
          ],
          "name": "stdout"
        }
      ]
    },
    {
      "cell_type": "code",
      "metadata": {
        "id": "Ct0IUCLlLBiP",
        "colab": {
          "base_uri": "https://localhost:8080/",
          "height": 284
        },
        "outputId": "1e3cd292-9641-463b-99e5-2ceda0b2338a"
      },
      "source": [
        "df.describe()"
      ],
      "execution_count": null,
      "outputs": [
        {
          "output_type": "execute_result",
          "data": {
            "text/html": [
              "<div>\n",
              "<style scoped>\n",
              "    .dataframe tbody tr th:only-of-type {\n",
              "        vertical-align: middle;\n",
              "    }\n",
              "\n",
              "    .dataframe tbody tr th {\n",
              "        vertical-align: top;\n",
              "    }\n",
              "\n",
              "    .dataframe thead th {\n",
              "        text-align: right;\n",
              "    }\n",
              "</style>\n",
              "<table border=\"1\" class=\"dataframe\">\n",
              "  <thead>\n",
              "    <tr style=\"text-align: right;\">\n",
              "      <th></th>\n",
              "      <th>DATA_VALUE</th>\n",
              "    </tr>\n",
              "  </thead>\n",
              "  <tbody>\n",
              "    <tr>\n",
              "      <th>count</th>\n",
              "      <td>2.800000e+01</td>\n",
              "    </tr>\n",
              "    <tr>\n",
              "      <th>mean</th>\n",
              "      <td>9.805636e+05</td>\n",
              "    </tr>\n",
              "    <tr>\n",
              "      <th>std</th>\n",
              "      <td>5.085507e+05</td>\n",
              "    </tr>\n",
              "    <tr>\n",
              "      <th>min</th>\n",
              "      <td>2.424811e+05</td>\n",
              "    </tr>\n",
              "    <tr>\n",
              "      <th>25%</th>\n",
              "      <td>5.408052e+05</td>\n",
              "    </tr>\n",
              "    <tr>\n",
              "      <th>50%</th>\n",
              "      <td>9.329435e+05</td>\n",
              "    </tr>\n",
              "    <tr>\n",
              "      <th>75%</th>\n",
              "      <td>1.401731e+06</td>\n",
              "    </tr>\n",
              "    <tr>\n",
              "      <th>max</th>\n",
              "      <td>1.898193e+06</td>\n",
              "    </tr>\n",
              "  </tbody>\n",
              "</table>\n",
              "</div>"
            ],
            "text/plain": [
              "         DATA_VALUE\n",
              "count  2.800000e+01\n",
              "mean   9.805636e+05\n",
              "std    5.085507e+05\n",
              "min    2.424811e+05\n",
              "25%    5.408052e+05\n",
              "50%    9.329435e+05\n",
              "75%    1.401731e+06\n",
              "max    1.898193e+06"
            ]
          },
          "metadata": {
            "tags": []
          },
          "execution_count": 9
        }
      ]
    },
    {
      "cell_type": "code",
      "metadata": {
        "id": "MoFB659EKc3a",
        "colab": {
          "base_uri": "https://localhost:8080/",
          "height": 308
        },
        "outputId": "575e3071-d8f3-4bf9-d4f5-91a6d14acb34"
      },
      "source": [
        "df.plot()"
      ],
      "execution_count": null,
      "outputs": [
        {
          "output_type": "execute_result",
          "data": {
            "text/plain": [
              "<matplotlib.axes._subplots.AxesSubplot at 0x7f3506864668>"
            ]
          },
          "metadata": {
            "tags": []
          },
          "execution_count": 7
        },
        {
          "output_type": "display_data",
          "data": {
            "image/png": "[encoded data removed]",
            "text/plain": [
              "<Figure size 432x288 with 1 Axes>"
            ]
          },
          "metadata": {
            "tags": [],
            "needs_background": "light"
          }
        }
      ]
    },
    {
      "cell_type": "code",
      "metadata": {
        "id": "OjHBFwdILMAs"
      },
      "source": [],
      "execution_count": null,
      "outputs": []
    }
  ]
}